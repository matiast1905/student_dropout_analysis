{
 "cells": [
  {
   "cell_type": "code",
   "execution_count": 1,
   "metadata": {},
   "outputs": [],
   "source": [
    "import requests\n",
    "from bs4 import BeautifulSoup as bs\n",
    "from collections import defaultdict\n",
    "import re\n",
    "import pickle"
   ]
  },
  {
   "cell_type": "code",
   "execution_count": 2,
   "metadata": {},
   "outputs": [],
   "source": [
    "url = \"https://valoriza.ipportalegre.pt/piaes/features-info-stats.html\""
   ]
  },
  {
   "cell_type": "code",
   "execution_count": 46,
   "metadata": {},
   "outputs": [],
   "source": [
    "r = requests.get(url)"
   ]
  },
  {
   "cell_type": "code",
   "execution_count": 128,
   "metadata": {},
   "outputs": [],
   "source": [
    "soup = bs(r.content, \"html.parser\")"
   ]
  },
  {
   "cell_type": "code",
   "execution_count": 129,
   "metadata": {},
   "outputs": [],
   "source": [
    "# All necessary variables are under the css selector (.tooltip)\n",
    "variables = soup.select(\".tooltip\")"
   ]
  },
  {
   "cell_type": "code",
   "execution_count": 169,
   "metadata": {},
   "outputs": [],
   "source": [
    "variables_dict = {}\n",
    "\n",
    "for variable in variables:\n",
    "    variables_dict[variable.contents[0].strip()] = \\\n",
    "        list(map(lambda x: x.strip()\n",
    "                 .replace(\"\\r\\n                                        \", \" \"),\n",
    "                 variable.contents[1].strings))"
   ]
  },
  {
   "cell_type": "code",
   "execution_count": 163,
   "metadata": {},
   "outputs": [],
   "source": [
    "map_dict = defaultdict(dict)"
   ]
  },
  {
   "cell_type": "code",
   "execution_count": 164,
   "metadata": {},
   "outputs": [],
   "source": [
    "for k, v in variables_dict.items():\n",
    "    k1 = k.replace(\" \",\"_\").lower()\n",
    "    if len(v) == 1:\n",
    "        map_dict[k1] = v[0]\n",
    "        continue\n",
    "    for point in v:\n",
    "        # Remove empty strings\n",
    "        if point == \"\":\n",
    "            continue\n",
    "        k2, v2 = re.split(r\"-|–\", point ,maxsplit = 1)\n",
    "        map_dict[k1][int(k2.strip())] = v2.strip()"
   ]
  },
  {
   "cell_type": "code",
   "execution_count": 166,
   "metadata": {},
   "outputs": [],
   "source": [
    "import pickle\n",
    "\n",
    "with open(\"../data/categorical_maps.pkl\", \"wb\") as f:\n",
    "    pickle.dump(map_dict, f)"
   ]
  }
 ],
 "metadata": {
  "kernelspec": {
   "display_name": "ml",
   "language": "python",
   "name": "python3"
  },
  "language_info": {
   "codemirror_mode": {
    "name": "ipython",
    "version": 3
   },
   "file_extension": ".py",
   "mimetype": "text/x-python",
   "name": "python",
   "nbconvert_exporter": "python",
   "pygments_lexer": "ipython3",
   "version": "3.9.17"
  },
  "orig_nbformat": 4,
  "vscode": {
   "interpreter": {
    "hash": "d8771a59bcb49c3df123acaeb048a13392df3ed266990bde476ac86fadb331f8"
   }
  }
 },
 "nbformat": 4,
 "nbformat_minor": 2
}
