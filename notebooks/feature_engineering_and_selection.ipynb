{
 "cells": [
  {
   "cell_type": "code",
   "execution_count": 1,
   "metadata": {},
   "outputs": [
    {
     "data": {
      "text/html": [
       "\n",
       "                <script type=\"application/javascript\" id=\"jupyter_black\">\n",
       "                (function() {\n",
       "                    if (window.IPython === undefined) {\n",
       "                        return\n",
       "                    }\n",
       "                    var msg = \"WARNING: it looks like you might have loaded \" +\n",
       "                        \"jupyter_black in a non-lab notebook with \" +\n",
       "                        \"`is_lab=True`. Please double check, and if \" +\n",
       "                        \"loading with `%load_ext` please review the README!\"\n",
       "                    console.log(msg)\n",
       "                    alert(msg)\n",
       "                })()\n",
       "                </script>\n",
       "                "
      ],
      "text/plain": [
       "<IPython.core.display.HTML object>"
      ]
     },
     "metadata": {},
     "output_type": "display_data"
    }
   ],
   "source": [
    "%load_ext jupyter_black"
   ]
  },
  {
   "cell_type": "code",
   "execution_count": 2,
   "metadata": {},
   "outputs": [],
   "source": [
    "import pandas as pd\n",
    "import numpy as np\n",
    "\n",
    "from sklearn.model_selection import train_test_split\n",
    "from sklearn.linear_model import LogisticRegression\n",
    "import statsmodels.formula.api as smf\n",
    "import statsmodels.api as sm\n",
    "\n",
    "from sklearn.preprocessing import OrdinalEncoder\n",
    "from sklearn.pipeline import Pipeline, make_pipeline\n",
    "from sklearn.compose import ColumnTransformer\n",
    "from sklearn.impute import SimpleImputer\n",
    "from sklearn.feature_selection import (\n",
    "    SelectKBest,\n",
    "    f_classif,\n",
    "    chi2,\n",
    "    mutual_info_classif,\n",
    "    VarianceThreshold,\n",
    "    SequentialFeatureSelector,\n",
    ")\n",
    "\n",
    "\n",
    "import matplotlib.pyplot as plt\n",
    "import seaborn as sns\n",
    "\n",
    "target_palette = {\"Graduate\": \"#4ECDC4\", \"Dropout\": \"#FF6B6B\"}"
   ]
  },
  {
   "cell_type": "code",
   "execution_count": 3,
   "metadata": {},
   "outputs": [],
   "source": [
    "train = pd.read_parquet(\"../data/splits/train.parquet\")"
   ]
  },
  {
   "cell_type": "code",
   "execution_count": 4,
   "metadata": {},
   "outputs": [
    {
     "data": {
      "text/html": [
       "<div>\n",
       "<style scoped>\n",
       "    .dataframe tbody tr th:only-of-type {\n",
       "        vertical-align: middle;\n",
       "    }\n",
       "\n",
       "    .dataframe tbody tr th {\n",
       "        vertical-align: top;\n",
       "    }\n",
       "\n",
       "    .dataframe thead th {\n",
       "        text-align: right;\n",
       "    }\n",
       "</style>\n",
       "<table border=\"1\" class=\"dataframe\">\n",
       "  <thead>\n",
       "    <tr style=\"text-align: right;\">\n",
       "      <th></th>\n",
       "      <th>count</th>\n",
       "      <th>mean</th>\n",
       "      <th>std</th>\n",
       "      <th>min</th>\n",
       "      <th>25%</th>\n",
       "      <th>50%</th>\n",
       "      <th>75%</th>\n",
       "      <th>max</th>\n",
       "    </tr>\n",
       "  </thead>\n",
       "  <tbody>\n",
       "    <tr>\n",
       "      <th>application_order</th>\n",
       "      <td>3539.0</td>\n",
       "      <td>1.720825</td>\n",
       "      <td>1.307475</td>\n",
       "      <td>0.00</td>\n",
       "      <td>1.00</td>\n",
       "      <td>1.000000</td>\n",
       "      <td>2.00000</td>\n",
       "      <td>9.000000</td>\n",
       "    </tr>\n",
       "    <tr>\n",
       "      <th>age_at_enrollment</th>\n",
       "      <td>3539.0</td>\n",
       "      <td>23.192992</td>\n",
       "      <td>7.423040</td>\n",
       "      <td>17.00</td>\n",
       "      <td>19.00</td>\n",
       "      <td>20.000000</td>\n",
       "      <td>25.00000</td>\n",
       "      <td>62.000000</td>\n",
       "    </tr>\n",
       "    <tr>\n",
       "      <th>first_sem_credited</th>\n",
       "      <td>3539.0</td>\n",
       "      <td>0.688613</td>\n",
       "      <td>2.288594</td>\n",
       "      <td>0.00</td>\n",
       "      <td>0.00</td>\n",
       "      <td>0.000000</td>\n",
       "      <td>0.00000</td>\n",
       "      <td>20.000000</td>\n",
       "    </tr>\n",
       "    <tr>\n",
       "      <th>first_sem_enrolled</th>\n",
       "      <td>3539.0</td>\n",
       "      <td>6.238203</td>\n",
       "      <td>2.433641</td>\n",
       "      <td>0.00</td>\n",
       "      <td>5.00</td>\n",
       "      <td>6.000000</td>\n",
       "      <td>7.00000</td>\n",
       "      <td>26.000000</td>\n",
       "    </tr>\n",
       "    <tr>\n",
       "      <th>first_sem_evaluations</th>\n",
       "      <td>3539.0</td>\n",
       "      <td>8.238485</td>\n",
       "      <td>4.155428</td>\n",
       "      <td>0.00</td>\n",
       "      <td>6.00</td>\n",
       "      <td>8.000000</td>\n",
       "      <td>10.00000</td>\n",
       "      <td>45.000000</td>\n",
       "    </tr>\n",
       "    <tr>\n",
       "      <th>first_sem_approved</th>\n",
       "      <td>3539.0</td>\n",
       "      <td>4.677310</td>\n",
       "      <td>3.057832</td>\n",
       "      <td>0.00</td>\n",
       "      <td>3.00</td>\n",
       "      <td>5.000000</td>\n",
       "      <td>6.00000</td>\n",
       "      <td>26.000000</td>\n",
       "    </tr>\n",
       "    <tr>\n",
       "      <th>first_sem_grade</th>\n",
       "      <td>3539.0</td>\n",
       "      <td>10.616223</td>\n",
       "      <td>4.882002</td>\n",
       "      <td>0.00</td>\n",
       "      <td>11.00</td>\n",
       "      <td>12.333333</td>\n",
       "      <td>13.40000</td>\n",
       "      <td>18.000000</td>\n",
       "    </tr>\n",
       "    <tr>\n",
       "      <th>first_sem_without_evaluations</th>\n",
       "      <td>3539.0</td>\n",
       "      <td>0.137609</td>\n",
       "      <td>0.684972</td>\n",
       "      <td>0.00</td>\n",
       "      <td>0.00</td>\n",
       "      <td>0.000000</td>\n",
       "      <td>0.00000</td>\n",
       "      <td>12.000000</td>\n",
       "    </tr>\n",
       "    <tr>\n",
       "      <th>second_sem_credited</th>\n",
       "      <td>3539.0</td>\n",
       "      <td>0.526137</td>\n",
       "      <td>1.869872</td>\n",
       "      <td>0.00</td>\n",
       "      <td>0.00</td>\n",
       "      <td>0.000000</td>\n",
       "      <td>0.00000</td>\n",
       "      <td>19.000000</td>\n",
       "    </tr>\n",
       "    <tr>\n",
       "      <th>second_sem_enrolled</th>\n",
       "      <td>3539.0</td>\n",
       "      <td>6.203165</td>\n",
       "      <td>2.163140</td>\n",
       "      <td>0.00</td>\n",
       "      <td>5.00</td>\n",
       "      <td>6.000000</td>\n",
       "      <td>7.00000</td>\n",
       "      <td>23.000000</td>\n",
       "    </tr>\n",
       "    <tr>\n",
       "      <th>second_sem_evaluations</th>\n",
       "      <td>3539.0</td>\n",
       "      <td>8.033908</td>\n",
       "      <td>3.922148</td>\n",
       "      <td>0.00</td>\n",
       "      <td>6.00</td>\n",
       "      <td>8.000000</td>\n",
       "      <td>10.00000</td>\n",
       "      <td>33.000000</td>\n",
       "    </tr>\n",
       "    <tr>\n",
       "      <th>second_sem_approved</th>\n",
       "      <td>3539.0</td>\n",
       "      <td>4.413111</td>\n",
       "      <td>2.993021</td>\n",
       "      <td>0.00</td>\n",
       "      <td>2.00</td>\n",
       "      <td>5.000000</td>\n",
       "      <td>6.00000</td>\n",
       "      <td>20.000000</td>\n",
       "    </tr>\n",
       "    <tr>\n",
       "      <th>second_sem_grade</th>\n",
       "      <td>3539.0</td>\n",
       "      <td>10.209792</td>\n",
       "      <td>5.236770</td>\n",
       "      <td>0.00</td>\n",
       "      <td>10.75</td>\n",
       "      <td>12.221429</td>\n",
       "      <td>13.34625</td>\n",
       "      <td>18.571429</td>\n",
       "    </tr>\n",
       "    <tr>\n",
       "      <th>second_sem_without_evaluations</th>\n",
       "      <td>3539.0</td>\n",
       "      <td>0.148064</td>\n",
       "      <td>0.761647</td>\n",
       "      <td>0.00</td>\n",
       "      <td>0.00</td>\n",
       "      <td>0.000000</td>\n",
       "      <td>0.00000</td>\n",
       "      <td>12.000000</td>\n",
       "    </tr>\n",
       "    <tr>\n",
       "      <th>unemployment_rate</th>\n",
       "      <td>3539.0</td>\n",
       "      <td>11.586154</td>\n",
       "      <td>2.660016</td>\n",
       "      <td>7.60</td>\n",
       "      <td>9.40</td>\n",
       "      <td>11.100000</td>\n",
       "      <td>13.90000</td>\n",
       "      <td>16.200000</td>\n",
       "    </tr>\n",
       "    <tr>\n",
       "      <th>inflation_rate</th>\n",
       "      <td>3539.0</td>\n",
       "      <td>1.219893</td>\n",
       "      <td>1.381590</td>\n",
       "      <td>-0.80</td>\n",
       "      <td>0.30</td>\n",
       "      <td>1.400000</td>\n",
       "      <td>2.60000</td>\n",
       "      <td>3.700000</td>\n",
       "    </tr>\n",
       "    <tr>\n",
       "      <th>gdp_change</th>\n",
       "      <td>3539.0</td>\n",
       "      <td>0.011379</td>\n",
       "      <td>2.254856</td>\n",
       "      <td>-4.06</td>\n",
       "      <td>-1.70</td>\n",
       "      <td>0.320000</td>\n",
       "      <td>1.79000</td>\n",
       "      <td>3.510000</td>\n",
       "    </tr>\n",
       "    <tr>\n",
       "      <th>dropout</th>\n",
       "      <td>3539.0</td>\n",
       "      <td>0.321277</td>\n",
       "      <td>0.467033</td>\n",
       "      <td>0.00</td>\n",
       "      <td>0.00</td>\n",
       "      <td>0.000000</td>\n",
       "      <td>1.00000</td>\n",
       "      <td>1.000000</td>\n",
       "    </tr>\n",
       "  </tbody>\n",
       "</table>\n",
       "</div>"
      ],
      "text/plain": [
       "                                 count       mean       std    min    25%  \\\n",
       "application_order               3539.0   1.720825  1.307475   0.00   1.00   \n",
       "age_at_enrollment               3539.0  23.192992  7.423040  17.00  19.00   \n",
       "first_sem_credited              3539.0   0.688613  2.288594   0.00   0.00   \n",
       "first_sem_enrolled              3539.0   6.238203  2.433641   0.00   5.00   \n",
       "first_sem_evaluations           3539.0   8.238485  4.155428   0.00   6.00   \n",
       "first_sem_approved              3539.0   4.677310  3.057832   0.00   3.00   \n",
       "first_sem_grade                 3539.0  10.616223  4.882002   0.00  11.00   \n",
       "first_sem_without_evaluations   3539.0   0.137609  0.684972   0.00   0.00   \n",
       "second_sem_credited             3539.0   0.526137  1.869872   0.00   0.00   \n",
       "second_sem_enrolled             3539.0   6.203165  2.163140   0.00   5.00   \n",
       "second_sem_evaluations          3539.0   8.033908  3.922148   0.00   6.00   \n",
       "second_sem_approved             3539.0   4.413111  2.993021   0.00   2.00   \n",
       "second_sem_grade                3539.0  10.209792  5.236770   0.00  10.75   \n",
       "second_sem_without_evaluations  3539.0   0.148064  0.761647   0.00   0.00   \n",
       "unemployment_rate               3539.0  11.586154  2.660016   7.60   9.40   \n",
       "inflation_rate                  3539.0   1.219893  1.381590  -0.80   0.30   \n",
       "gdp_change                      3539.0   0.011379  2.254856  -4.06  -1.70   \n",
       "dropout                         3539.0   0.321277  0.467033   0.00   0.00   \n",
       "\n",
       "                                      50%       75%        max  \n",
       "application_order                1.000000   2.00000   9.000000  \n",
       "age_at_enrollment               20.000000  25.00000  62.000000  \n",
       "first_sem_credited               0.000000   0.00000  20.000000  \n",
       "first_sem_enrolled               6.000000   7.00000  26.000000  \n",
       "first_sem_evaluations            8.000000  10.00000  45.000000  \n",
       "first_sem_approved               5.000000   6.00000  26.000000  \n",
       "first_sem_grade                 12.333333  13.40000  18.000000  \n",
       "first_sem_without_evaluations    0.000000   0.00000  12.000000  \n",
       "second_sem_credited              0.000000   0.00000  19.000000  \n",
       "second_sem_enrolled              6.000000   7.00000  23.000000  \n",
       "second_sem_evaluations           8.000000  10.00000  33.000000  \n",
       "second_sem_approved              5.000000   6.00000  20.000000  \n",
       "second_sem_grade                12.221429  13.34625  18.571429  \n",
       "second_sem_without_evaluations   0.000000   0.00000  12.000000  \n",
       "unemployment_rate               11.100000  13.90000  16.200000  \n",
       "inflation_rate                   1.400000   2.60000   3.700000  \n",
       "gdp_change                       0.320000   1.79000   3.510000  \n",
       "dropout                          0.000000   1.00000   1.000000  "
      ]
     },
     "execution_count": 4,
     "metadata": {},
     "output_type": "execute_result"
    }
   ],
   "source": [
    "train.describe().T"
   ]
  },
  {
   "cell_type": "code",
   "execution_count": 5,
   "metadata": {},
   "outputs": [
    {
     "data": {
      "text/plain": [
       "Portuguese               3455\n",
       "Brazilian                  29\n",
       "Santomean                  10\n",
       "Spanish                    10\n",
       "Cape Verdean               10\n",
       "Italian                     3\n",
       "Ukrainian                   3\n",
       "Guinean                     3\n",
       "Mexican                     2\n",
       "Angolan                     2\n",
       "Romanian                    2\n",
       "Moldova (Republic of)       2\n",
       "Mozambican                  2\n",
       "English                     1\n",
       "Colombian                   1\n",
       "Dutch                       1\n",
       "Lithuanian                  1\n",
       "Russian                     1\n",
       "German                      1\n",
       "Name: nationality, dtype: int64"
      ]
     },
     "execution_count": 5,
     "metadata": {},
     "output_type": "execute_result"
    }
   ],
   "source": [
    "# This column has low variance, I will drop it\n",
    "train.nationality.value_counts()"
   ]
  },
  {
   "cell_type": "code",
   "execution_count": 6,
   "metadata": {},
   "outputs": [
    {
     "data": {
      "text/plain": [
       "no     3455\n",
       "yes      84\n",
       "Name: international, dtype: int64"
      ]
     },
     "execution_count": 6,
     "metadata": {},
     "output_type": "execute_result"
    }
   ],
   "source": [
    "# This column also has low variance, I will drop it also. There is no difference in the outcome in what we saw in the EDA step\n",
    "train.international.value_counts()"
   ]
  },
  {
   "cell_type": "code",
   "execution_count": 7,
   "metadata": {},
   "outputs": [
    {
     "data": {
      "text/plain": [
       "1st phase - general contingent                         1384\n",
       "2nd phase - general contingent                          681\n",
       "Over 23 years old                                       620\n",
       "Change of course                                        252\n",
       "Technological specialization diploma holders            174\n",
       "Holders of other higher courses                         111\n",
       "3rd phase - general contingent                          102\n",
       "Transfer                                                 64\n",
       "Change of institution/course                             48\n",
       "1st phase - special contingent (Madeira Island)          28\n",
       "Short cycle diploma holders                              26\n",
       "International student (bachelor)                         24\n",
       "1st phase - special contingent (Azores Island)           15\n",
       "Ordinance No. 854-B/99                                    6\n",
       "Ordinance No. 533-A/99, item b2) (Different Plan)         1\n",
       "Change of institution/course (International)              1\n",
       "Ordinance No. 612/93                                      1\n",
       "Ordinance No. 533-A/99, item b3 (Other Institution)       1\n",
       "Name: application_mode, dtype: int64"
      ]
     },
     "execution_count": 7,
     "metadata": {},
     "output_type": "execute_result"
    }
   ],
   "source": [
    "# Probably the best is to group together rare categories (less than 50 students?)\n",
    "train.application_mode.value_counts()"
   ]
  },
  {
   "cell_type": "code",
   "execution_count": 8,
   "metadata": {},
   "outputs": [],
   "source": [
    "def feat_eng_1(df):\n",
    "    df = df.copy()\n",
    "    # Create a column of percentage of exams approved\n",
    "    df = df.assign(\n",
    "        # Number of approved units over total number of evaluations (its not a percentage of approved exams)\n",
    "        first_sem_approved_over_evaluations=lambda x: x.first_sem_approved\n",
    "        / x.first_sem_evaluations,\n",
    "        second_sem_approved_over_evaluations=lambda x: x.second_sem_approved\n",
    "        / x.second_sem_evaluations,\n",
    "        # There are some students with 0 evaluations in the semesters, the coefficient will be np.nan value.\n",
    "        # I will fill these with the mean value and create a boolean flag\n",
    "        first_sem_has_evals=lambda x: x.first_sem_evaluations != 0,\n",
    "        second_sem_has_evals=lambda x: x.second_sem_evaluations != 0,\n",
    "        # Boolean flag for sem_without_evaluations predictors\n",
    "        first_sem_has_units_without_evals=lambda x: x.first_sem_without_evaluations\n",
    "        == 0,\n",
    "        second_sem_has_units_without_evals=lambda x: x.second_sem_without_evaluations\n",
    "        == 0,\n",
    "        # Ratio of average grade over number of enrolled units\n",
    "        first_sem_grade_over_enrolled=lambda x: x.first_sem_grade\n",
    "        / x.first_sem_enrolled,\n",
    "        second_sem_grade_over_enrolled=lambda x: x.second_sem_grade\n",
    "        / x.second_sem_enrolled,\n",
    "        # Again, there are some students with 0 enrolled units in the semesters, the coefficient will be np.nan value.\n",
    "        # I will fill these with the mean value and create a boolean flag\n",
    "        first_sem_has_enrolled=lambda x: x.first_sem_enrolled != 0,\n",
    "        second_sem_has_enrolled=lambda x: x.second_sem_enrolled != 0,\n",
    "        # Number of disapproved units\n",
    "        first_sem_disapproved=lambda x: x.first_sem_enrolled - x.first_sem_approved,\n",
    "        second_sem_disapproved=lambda x: x.second_sem_enrolled - x.second_sem_approved,\n",
    "        # Percentage of units credited over enrolled\n",
    "        first_sem_perc_credited=lambda x: x.first_sem_credited / x.first_sem_enrolled,\n",
    "        second_sem_perc_credited=lambda x: x.second_sem_credited\n",
    "        / x.second_sem_enrolled,\n",
    "    )\n",
    "    df = df.drop(columns=[\"nationality\", \"international\"])\n",
    "    return df"
   ]
  },
  {
   "cell_type": "code",
   "execution_count": 67,
   "metadata": {},
   "outputs": [],
   "source": [
    "train_fe = train.pipe(feat_eng_1)\n",
    "X_fe = train_fe.drop(columns=[\"dropout\"])\n",
    "y = train_fe[\"dropout\"]"
   ]
  },
  {
   "cell_type": "code",
   "execution_count": 62,
   "metadata": {},
   "outputs": [
    {
     "data": {
      "text/plain": [
       "46"
      ]
     },
     "execution_count": 62,
     "metadata": {},
     "output_type": "execute_result"
    }
   ],
   "source": [
    "X_fe.shape[1]"
   ]
  },
  {
   "cell_type": "markdown",
   "metadata": {},
   "source": [
    "Before starting the different feature selection methods, I will create a dictionary to store the features selected by each method"
   ]
  },
  {
   "cell_type": "code",
   "execution_count": 13,
   "metadata": {},
   "outputs": [],
   "source": [
    "features_selected = {}"
   ]
  },
  {
   "attachments": {},
   "cell_type": "markdown",
   "metadata": {},
   "source": [
    "### Variance Threshold analysis\n",
    "\n",
    "Variance Threshold is a simple baseline approach to feature selection. It removes all features whose variance doesn’t meet some threshold."
   ]
  },
  {
   "cell_type": "code",
   "execution_count": 63,
   "metadata": {},
   "outputs": [
    {
     "data": {
      "text/html": [
       "<style>#sk-container-id-9 {color: black;background-color: white;}#sk-container-id-9 pre{padding: 0;}#sk-container-id-9 div.sk-toggleable {background-color: white;}#sk-container-id-9 label.sk-toggleable__label {cursor: pointer;display: block;width: 100%;margin-bottom: 0;padding: 0.3em;box-sizing: border-box;text-align: center;}#sk-container-id-9 label.sk-toggleable__label-arrow:before {content: \"▸\";float: left;margin-right: 0.25em;color: #696969;}#sk-container-id-9 label.sk-toggleable__label-arrow:hover:before {color: black;}#sk-container-id-9 div.sk-estimator:hover label.sk-toggleable__label-arrow:before {color: black;}#sk-container-id-9 div.sk-toggleable__content {max-height: 0;max-width: 0;overflow: hidden;text-align: left;background-color: #f0f8ff;}#sk-container-id-9 div.sk-toggleable__content pre {margin: 0.2em;color: black;border-radius: 0.25em;background-color: #f0f8ff;}#sk-container-id-9 input.sk-toggleable__control:checked~div.sk-toggleable__content {max-height: 200px;max-width: 100%;overflow: auto;}#sk-container-id-9 input.sk-toggleable__control:checked~label.sk-toggleable__label-arrow:before {content: \"▾\";}#sk-container-id-9 div.sk-estimator input.sk-toggleable__control:checked~label.sk-toggleable__label {background-color: #d4ebff;}#sk-container-id-9 div.sk-label input.sk-toggleable__control:checked~label.sk-toggleable__label {background-color: #d4ebff;}#sk-container-id-9 input.sk-hidden--visually {border: 0;clip: rect(1px 1px 1px 1px);clip: rect(1px, 1px, 1px, 1px);height: 1px;margin: -1px;overflow: hidden;padding: 0;position: absolute;width: 1px;}#sk-container-id-9 div.sk-estimator {font-family: monospace;background-color: #f0f8ff;border: 1px dotted black;border-radius: 0.25em;box-sizing: border-box;margin-bottom: 0.5em;}#sk-container-id-9 div.sk-estimator:hover {background-color: #d4ebff;}#sk-container-id-9 div.sk-parallel-item::after {content: \"\";width: 100%;border-bottom: 1px solid gray;flex-grow: 1;}#sk-container-id-9 div.sk-label:hover label.sk-toggleable__label {background-color: #d4ebff;}#sk-container-id-9 div.sk-serial::before {content: \"\";position: absolute;border-left: 1px solid gray;box-sizing: border-box;top: 0;bottom: 0;left: 50%;z-index: 0;}#sk-container-id-9 div.sk-serial {display: flex;flex-direction: column;align-items: center;background-color: white;padding-right: 0.2em;padding-left: 0.2em;position: relative;}#sk-container-id-9 div.sk-item {position: relative;z-index: 1;}#sk-container-id-9 div.sk-parallel {display: flex;align-items: stretch;justify-content: center;background-color: white;position: relative;}#sk-container-id-9 div.sk-item::before, #sk-container-id-9 div.sk-parallel-item::before {content: \"\";position: absolute;border-left: 1px solid gray;box-sizing: border-box;top: 0;bottom: 0;left: 50%;z-index: -1;}#sk-container-id-9 div.sk-parallel-item {display: flex;flex-direction: column;z-index: 1;position: relative;background-color: white;}#sk-container-id-9 div.sk-parallel-item:first-child::after {align-self: flex-end;width: 50%;}#sk-container-id-9 div.sk-parallel-item:last-child::after {align-self: flex-start;width: 50%;}#sk-container-id-9 div.sk-parallel-item:only-child::after {width: 0;}#sk-container-id-9 div.sk-dashed-wrapped {border: 1px dashed gray;margin: 0 0.4em 0.5em 0.4em;box-sizing: border-box;padding-bottom: 0.4em;background-color: white;}#sk-container-id-9 div.sk-label label {font-family: monospace;font-weight: bold;display: inline-block;line-height: 1.2em;}#sk-container-id-9 div.sk-label-container {text-align: center;}#sk-container-id-9 div.sk-container {/* jupyter's `normalize.less` sets `[hidden] { display: none; }` but bootstrap.min.css set `[hidden] { display: none !important; }` so we also need the `!important` here to be able to override the default hidden behavior on the sphinx rendered scikit-learn.org. See: https://github.com/scikit-learn/scikit-learn/issues/21755 */display: inline-block !important;position: relative;}#sk-container-id-9 div.sk-text-repr-fallback {display: none;}</style><div id=\"sk-container-id-9\" class=\"sk-top-container\"><div class=\"sk-text-repr-fallback\"><pre>Pipeline(steps=[(&#x27;columntransformer&#x27;,\n",
       "                 ColumnTransformer(remainder=&#x27;passthrough&#x27;,\n",
       "                                   transformers=[(&#x27;ordinal_encoder&#x27;,\n",
       "                                                  OrdinalEncoder(),\n",
       "                                                  array([&#x27;marital_status&#x27;, &#x27;application_mode&#x27;, &#x27;course&#x27;, &#x27;day_evening&#x27;,\n",
       "       &#x27;previous_education&#x27;, &#x27;mother_education&#x27;, &#x27;father_education&#x27;,\n",
       "       &#x27;mother_occupation&#x27;, &#x27;father_occupation&#x27;, &#x27;displaced&#x27;,\n",
       "       &#x27;special_needs&#x27;, &#x27;debtor&#x27;, &#x27;tuition_fees_up_to_date&#x27;, &#x27;gender&#x27;,\n",
       "       &#x27;scholarship_holder&#x27;, &#x27;first_sem_has_evals&#x27;,\n",
       "       &#x27;second_sem_has_evals&#x27;, &#x27;first_sem_has_units_without_evals&#x27;,\n",
       "       &#x27;second_sem_has_units_without_evals&#x27;, &#x27;first_sem_has_enrolled&#x27;,\n",
       "       &#x27;second_sem_has_enrolled&#x27;], dtype=object))],\n",
       "                                   verbose_feature_names_out=False)),\n",
       "                (&#x27;variancethreshold&#x27;, VarianceThreshold(threshold=0.3))])</pre><b>In a Jupyter environment, please rerun this cell to show the HTML representation or trust the notebook. <br />On GitHub, the HTML representation is unable to render, please try loading this page with nbviewer.org.</b></div><div class=\"sk-container\" hidden><div class=\"sk-item sk-dashed-wrapped\"><div class=\"sk-label-container\"><div class=\"sk-label sk-toggleable\"><input class=\"sk-toggleable__control sk-hidden--visually\" id=\"sk-estimator-id-47\" type=\"checkbox\" ><label for=\"sk-estimator-id-47\" class=\"sk-toggleable__label sk-toggleable__label-arrow\">Pipeline</label><div class=\"sk-toggleable__content\"><pre>Pipeline(steps=[(&#x27;columntransformer&#x27;,\n",
       "                 ColumnTransformer(remainder=&#x27;passthrough&#x27;,\n",
       "                                   transformers=[(&#x27;ordinal_encoder&#x27;,\n",
       "                                                  OrdinalEncoder(),\n",
       "                                                  array([&#x27;marital_status&#x27;, &#x27;application_mode&#x27;, &#x27;course&#x27;, &#x27;day_evening&#x27;,\n",
       "       &#x27;previous_education&#x27;, &#x27;mother_education&#x27;, &#x27;father_education&#x27;,\n",
       "       &#x27;mother_occupation&#x27;, &#x27;father_occupation&#x27;, &#x27;displaced&#x27;,\n",
       "       &#x27;special_needs&#x27;, &#x27;debtor&#x27;, &#x27;tuition_fees_up_to_date&#x27;, &#x27;gender&#x27;,\n",
       "       &#x27;scholarship_holder&#x27;, &#x27;first_sem_has_evals&#x27;,\n",
       "       &#x27;second_sem_has_evals&#x27;, &#x27;first_sem_has_units_without_evals&#x27;,\n",
       "       &#x27;second_sem_has_units_without_evals&#x27;, &#x27;first_sem_has_enrolled&#x27;,\n",
       "       &#x27;second_sem_has_enrolled&#x27;], dtype=object))],\n",
       "                                   verbose_feature_names_out=False)),\n",
       "                (&#x27;variancethreshold&#x27;, VarianceThreshold(threshold=0.3))])</pre></div></div></div><div class=\"sk-serial\"><div class=\"sk-item sk-dashed-wrapped\"><div class=\"sk-label-container\"><div class=\"sk-label sk-toggleable\"><input class=\"sk-toggleable__control sk-hidden--visually\" id=\"sk-estimator-id-48\" type=\"checkbox\" ><label for=\"sk-estimator-id-48\" class=\"sk-toggleable__label sk-toggleable__label-arrow\">columntransformer: ColumnTransformer</label><div class=\"sk-toggleable__content\"><pre>ColumnTransformer(remainder=&#x27;passthrough&#x27;,\n",
       "                  transformers=[(&#x27;ordinal_encoder&#x27;, OrdinalEncoder(),\n",
       "                                 array([&#x27;marital_status&#x27;, &#x27;application_mode&#x27;, &#x27;course&#x27;, &#x27;day_evening&#x27;,\n",
       "       &#x27;previous_education&#x27;, &#x27;mother_education&#x27;, &#x27;father_education&#x27;,\n",
       "       &#x27;mother_occupation&#x27;, &#x27;father_occupation&#x27;, &#x27;displaced&#x27;,\n",
       "       &#x27;special_needs&#x27;, &#x27;debtor&#x27;, &#x27;tuition_fees_up_to_date&#x27;, &#x27;gender&#x27;,\n",
       "       &#x27;scholarship_holder&#x27;, &#x27;first_sem_has_evals&#x27;,\n",
       "       &#x27;second_sem_has_evals&#x27;, &#x27;first_sem_has_units_without_evals&#x27;,\n",
       "       &#x27;second_sem_has_units_without_evals&#x27;, &#x27;first_sem_has_enrolled&#x27;,\n",
       "       &#x27;second_sem_has_enrolled&#x27;], dtype=object))],\n",
       "                  verbose_feature_names_out=False)</pre></div></div></div><div class=\"sk-parallel\"><div class=\"sk-parallel-item\"><div class=\"sk-item\"><div class=\"sk-label-container\"><div class=\"sk-label sk-toggleable\"><input class=\"sk-toggleable__control sk-hidden--visually\" id=\"sk-estimator-id-49\" type=\"checkbox\" ><label for=\"sk-estimator-id-49\" class=\"sk-toggleable__label sk-toggleable__label-arrow\">ordinal_encoder</label><div class=\"sk-toggleable__content\"><pre>[&#x27;marital_status&#x27; &#x27;application_mode&#x27; &#x27;course&#x27; &#x27;day_evening&#x27;\n",
       " &#x27;previous_education&#x27; &#x27;mother_education&#x27; &#x27;father_education&#x27;\n",
       " &#x27;mother_occupation&#x27; &#x27;father_occupation&#x27; &#x27;displaced&#x27; &#x27;special_needs&#x27;\n",
       " &#x27;debtor&#x27; &#x27;tuition_fees_up_to_date&#x27; &#x27;gender&#x27; &#x27;scholarship_holder&#x27;\n",
       " &#x27;first_sem_has_evals&#x27; &#x27;second_sem_has_evals&#x27;\n",
       " &#x27;first_sem_has_units_without_evals&#x27; &#x27;second_sem_has_units_without_evals&#x27;\n",
       " &#x27;first_sem_has_enrolled&#x27; &#x27;second_sem_has_enrolled&#x27;]</pre></div></div></div><div class=\"sk-serial\"><div class=\"sk-item\"><div class=\"sk-estimator sk-toggleable\"><input class=\"sk-toggleable__control sk-hidden--visually\" id=\"sk-estimator-id-50\" type=\"checkbox\" ><label for=\"sk-estimator-id-50\" class=\"sk-toggleable__label sk-toggleable__label-arrow\">OrdinalEncoder</label><div class=\"sk-toggleable__content\"><pre>OrdinalEncoder()</pre></div></div></div></div></div></div><div class=\"sk-parallel-item\"><div class=\"sk-item\"><div class=\"sk-label-container\"><div class=\"sk-label sk-toggleable\"><input class=\"sk-toggleable__control sk-hidden--visually\" id=\"sk-estimator-id-51\" type=\"checkbox\" ><label for=\"sk-estimator-id-51\" class=\"sk-toggleable__label sk-toggleable__label-arrow\">remainder</label><div class=\"sk-toggleable__content\"><pre>[&#x27;application_order&#x27;, &#x27;age_at_enrollment&#x27;, &#x27;first_sem_credited&#x27;, &#x27;first_sem_enrolled&#x27;, &#x27;first_sem_evaluations&#x27;, &#x27;first_sem_approved&#x27;, &#x27;first_sem_grade&#x27;, &#x27;first_sem_without_evaluations&#x27;, &#x27;second_sem_credited&#x27;, &#x27;second_sem_enrolled&#x27;, &#x27;second_sem_evaluations&#x27;, &#x27;second_sem_approved&#x27;, &#x27;second_sem_grade&#x27;, &#x27;second_sem_without_evaluations&#x27;, &#x27;unemployment_rate&#x27;, &#x27;inflation_rate&#x27;, &#x27;gdp_change&#x27;, &#x27;first_sem_approved_over_evaluations&#x27;, &#x27;second_sem_approved_over_evaluations&#x27;, &#x27;first_sem_grade_over_enrolled&#x27;, &#x27;second_sem_grade_over_enrolled&#x27;, &#x27;first_sem_disapproved&#x27;, &#x27;second_sem_disapproved&#x27;, &#x27;first_sem_perc_credited&#x27;, &#x27;second_sem_perc_credited&#x27;]</pre></div></div></div><div class=\"sk-serial\"><div class=\"sk-item\"><div class=\"sk-estimator sk-toggleable\"><input class=\"sk-toggleable__control sk-hidden--visually\" id=\"sk-estimator-id-52\" type=\"checkbox\" ><label for=\"sk-estimator-id-52\" class=\"sk-toggleable__label sk-toggleable__label-arrow\">passthrough</label><div class=\"sk-toggleable__content\"><pre>passthrough</pre></div></div></div></div></div></div></div></div><div class=\"sk-item\"><div class=\"sk-estimator sk-toggleable\"><input class=\"sk-toggleable__control sk-hidden--visually\" id=\"sk-estimator-id-53\" type=\"checkbox\" ><label for=\"sk-estimator-id-53\" class=\"sk-toggleable__label sk-toggleable__label-arrow\">VarianceThreshold</label><div class=\"sk-toggleable__content\"><pre>VarianceThreshold(threshold=0.3)</pre></div></div></div></div></div></div></div>"
      ],
      "text/plain": [
       "Pipeline(steps=[('columntransformer',\n",
       "                 ColumnTransformer(remainder='passthrough',\n",
       "                                   transformers=[('ordinal_encoder',\n",
       "                                                  OrdinalEncoder(),\n",
       "                                                  array(['marital_status', 'application_mode', 'course', 'day_evening',\n",
       "       'previous_education', 'mother_education', 'father_education',\n",
       "       'mother_occupation', 'father_occupation', 'displaced',\n",
       "       'special_needs', 'debtor', 'tuition_fees_up_to_date', 'gender',\n",
       "       'scholarship_holder', 'first_sem_has_evals',\n",
       "       'second_sem_has_evals', 'first_sem_has_units_without_evals',\n",
       "       'second_sem_has_units_without_evals', 'first_sem_has_enrolled',\n",
       "       'second_sem_has_enrolled'], dtype=object))],\n",
       "                                   verbose_feature_names_out=False)),\n",
       "                ('variancethreshold', VarianceThreshold(threshold=0.3))])"
      ]
     },
     "execution_count": 63,
     "metadata": {},
     "output_type": "execute_result"
    }
   ],
   "source": [
    "threshold = 0.3\n",
    "\n",
    "categorical_transformer = ColumnTransformer(\n",
    "    [\n",
    "        (\n",
    "            \"ordinal_encoder\",\n",
    "            OrdinalEncoder(),\n",
    "            X_fe.select_dtypes(exclude=\"number\").columns.values,\n",
    "        )\n",
    "    ],\n",
    "    remainder=\"passthrough\",\n",
    "    verbose_feature_names_out=False,\n",
    ")\n",
    "\n",
    "variance_threshold_pipe = make_pipeline(\n",
    "    categorical_transformer, VarianceThreshold(threshold)\n",
    ")\n",
    "variance_threshold_pipe.fit(X_fe)"
   ]
  },
  {
   "cell_type": "code",
   "execution_count": 64,
   "metadata": {},
   "outputs": [],
   "source": [
    "features_selected[\n",
    "    \"variance_threshold\"\n",
    "] = variance_threshold_pipe.get_feature_names_out().tolist()"
   ]
  },
  {
   "attachments": {},
   "cell_type": "markdown",
   "metadata": {},
   "source": [
    "Variance Threshold analysis (with a threshold of 0.3) indicate that only 28 of the predictors pass the cut. Many of them are our created flags. This makes sense since I expect that only a few values have the flags in `True` state.\n",
    "\n",
    "### Univariate feature selection\n",
    "Univariate feature selection works by selecting the best features based on univariate statistical tests. It can be seen as a preprocessing step to an estimator. These selectors required numeric features with no missing values. So, before fitting the selectors, I will transform the categories with ordinal encoding and impute missing values."
   ]
  },
  {
   "cell_type": "code",
   "execution_count": 66,
   "metadata": {},
   "outputs": [],
   "source": [
    "x_transformer = make_pipeline(\n",
    "    ColumnTransformer(\n",
    "        [\n",
    "            (\n",
    "                \"ordinal_enc\",\n",
    "                OrdinalEncoder(handle_unknown=\"use_encoded_value\", unknown_value=-1),\n",
    "                X_fe.select_dtypes(exclude=\"number\").columns.values,\n",
    "            )\n",
    "        ],\n",
    "        remainder=\"passthrough\",\n",
    "        verbose_feature_names_out=False,\n",
    "    ),\n",
    "    SimpleImputer(strategy=\"mean\"),\n",
    ")\n",
    "\n",
    "X_fe_num = x_transformer.fit_transform(X_fe)"
   ]
  },
  {
   "cell_type": "code",
   "execution_count": 68,
   "metadata": {},
   "outputs": [],
   "source": [
    "k_best_f_classif = SelectKBest(f_classif, k=15).fit(X_fe_num, y)\n",
    "k_best_mutual_inf = SelectKBest(mutual_info_classif, k=15).fit(X_fe_num, y)"
   ]
  },
  {
   "cell_type": "code",
   "execution_count": 69,
   "metadata": {},
   "outputs": [],
   "source": [
    "f_classif_scores = pd.Series(\n",
    "    k_best_f_classif.scores_, index=x_transformer.get_feature_names_out()\n",
    ")\n",
    "mutual_inf_scores = pd.Series(\n",
    "    k_best_mutual_inf.scores_, index=x_transformer.get_feature_names_out()\n",
    ")"
   ]
  },
  {
   "cell_type": "code",
   "execution_count": 70,
   "metadata": {},
   "outputs": [
    {
     "data": {
      "text/plain": [
       "second_sem_disapproved                  2606.106664\n",
       "first_sem_disapproved                   1902.022376\n",
       "second_sem_approved                     1676.901242\n",
       "second_sem_grade                        1596.239331\n",
       "second_sem_approved_over_evaluations    1462.188837\n",
       "first_sem_approved_over_evaluations     1177.962082\n",
       "second_sem_grade_over_enrolled          1089.756477\n",
       "first_sem_approved                      1072.389910\n",
       "first_sem_grade                         1001.154846\n",
       "tuition_fees_up_to_date                  781.861402\n",
       "first_sem_grade_over_enrolled            713.063193\n",
       "second_sem_has_evals                     274.518161\n",
       "age_at_enrollment                        225.307824\n",
       "scholarship_holder                       224.951881\n",
       "debtor                                   216.082162\n",
       "first_sem_has_evals                      199.657262\n",
       "application_mode                         193.730096\n",
       "gender                                   148.708782\n",
       "previous_education                        87.616711\n",
       "second_sem_evaluations                    80.122950\n",
       "second_sem_enrolled                       69.448033\n",
       "first_sem_enrolled                        55.054498\n",
       "father_education                          51.527524\n",
       "displaced                                 44.534972\n",
       "mother_education                          34.625359\n",
       "first_sem_evaluations                     28.901871\n",
       "second_sem_without_evaluations            28.058993\n",
       "course                                    26.610063\n",
       "day_evening                               21.439451\n",
       "marital_status                            20.512913\n",
       "second_sem_has_units_without_evals        20.443071\n",
       "application_order                         15.255247\n",
       "first_sem_has_units_without_evals         13.636456\n",
       "first_sem_without_evaluations              9.814545\n",
       "gdp_change                                 6.610893\n",
       "first_sem_credited                         5.276640\n",
       "second_sem_credited                        5.273908\n",
       "inflation_rate                             3.102488\n",
       "second_sem_has_enrolled                    2.709714\n",
       "first_sem_has_enrolled                     2.709714\n",
       "first_sem_perc_credited                    1.509186\n",
       "second_sem_perc_credited                   1.450580\n",
       "special_needs                              0.377819\n",
       "unemployment_rate                          0.196293\n",
       "mother_occupation                          0.000416\n",
       "father_occupation                          0.000103\n",
       "dtype: float64"
      ]
     },
     "execution_count": 70,
     "metadata": {},
     "output_type": "execute_result"
    }
   ],
   "source": [
    "f_classif_scores.sort_values(ascending=False)"
   ]
  },
  {
   "cell_type": "code",
   "execution_count": 52,
   "metadata": {},
   "outputs": [
    {
     "data": {
      "text/plain": [
       "second_sem_disapproved                  0.232603\n",
       "second_sem_approved_over_evaluations    0.225895\n",
       "second_sem_approved                     0.205763\n",
       "second_sem_grade_over_enrolled          0.199122\n",
       "second_sem_grade                        0.180670\n",
       "first_sem_disapproved                   0.176605\n",
       "first_sem_approved_over_evaluations     0.167170\n",
       "first_sem_approved                      0.157407\n",
       "first_sem_grade_over_enrolled           0.152074\n",
       "first_sem_grade                         0.135361\n",
       "tuition_fees_up_to_date                 0.088285\n",
       "second_sem_evaluations                  0.067118\n",
       "age_at_enrollment                       0.054084\n",
       "first_sem_evaluations                   0.051345\n",
       "second_sem_has_evals                    0.039825\n",
       "application_mode                        0.039041\n",
       "course                                  0.027595\n",
       "first_sem_enrolled                      0.027072\n",
       "first_sem_has_evals                     0.025110\n",
       "debtor                                  0.024600\n",
       "scholarship_holder                      0.023496\n",
       "gender                                  0.022393\n",
       "father_occupation                       0.018701\n",
       "first_sem_credited                      0.018088\n",
       "second_sem_enrolled                     0.018059\n",
       "first_sem_without_evaluations           0.011797\n",
       "father_education                        0.011235\n",
       "day_evening                             0.010668\n",
       "mother_occupation                       0.010046\n",
       "first_sem_perc_credited                 0.009389\n",
       "first_sem_has_enrolled                  0.008953\n",
       "first_sem_has_units_without_evals       0.008036\n",
       "application_order                       0.007978\n",
       "second_sem_has_units_without_evals      0.006044\n",
       "unemployment_rate                       0.006016\n",
       "second_sem_perc_credited                0.005907\n",
       "displaced                               0.005527\n",
       "second_sem_without_evaluations          0.004958\n",
       "gdp_change                              0.004957\n",
       "mother_education                        0.000052\n",
       "inflation_rate                          0.000000\n",
       "second_sem_credited                     0.000000\n",
       "second_sem_has_enrolled                 0.000000\n",
       "special_needs                           0.000000\n",
       "previous_education                      0.000000\n",
       "marital_status                          0.000000\n",
       "dtype: float64"
      ]
     },
     "execution_count": 52,
     "metadata": {},
     "output_type": "execute_result"
    }
   ],
   "source": [
    "mutual_inf_scores.sort_values(ascending=False)"
   ]
  },
  {
   "cell_type": "code",
   "execution_count": 91,
   "metadata": {},
   "outputs": [],
   "source": [
    "features_selected[\"f_classif\"] = x_transformer.get_feature_names_out()[\n",
    "    k_best_f_classif.get_support()\n",
    "].tolist()\n",
    "features_selected[\"mutual_inf\"] = x_transformer.get_feature_names_out()[\n",
    "    k_best_mutual_inf.get_support()\n",
    "].tolist()"
   ]
  },
  {
   "attachments": {},
   "cell_type": "markdown",
   "metadata": {},
   "source": [
    "### Sequential Feature Selection\n",
    "\n",
    "Sequential Feature Selection (SFS) is available in the SequentialFeatureSelector transformer. SFS can be either forward or backward:\n",
    "\n",
    "Forward-SFS is a greedy procedure that iteratively finds the best new feature to add to the set of selected features. Concretely, we initially start with zero features and find the one feature that maximizes a cross-validated score when an estimator is trained on this single feature. Once that first feature is selected, we repeat the procedure by adding a new feature to the set of selected features. The procedure stops when the desired number of selected features is reached, as determined by the n_features_to_select parameter.\n",
    "\n",
    "Backward-SFS follows the same idea but works in the opposite direction: instead of starting with no features and greedily adding features, we start with all the features and greedily remove features from the set. The direction parameter controls whether forward or backward SFS is used.\n",
    "\n",
    "I will use forward in this case"
   ]
  },
  {
   "cell_type": "code",
   "execution_count": 72,
   "metadata": {},
   "outputs": [],
   "source": [
    "from sklearn.ensemble import RandomForestClassifier\n",
    "\n",
    "sfs = SequentialFeatureSelector(\n",
    "    RandomForestClassifier(n_estimators=500, min_samples_split=5),\n",
    "    tol=0.002,\n",
    "    scoring=\"neg_log_loss\",\n",
    "    direction=\"forward\",\n",
    "    cv=4,\n",
    "    n_jobs=3,\n",
    "    n_features_to_select=\"auto\",\n",
    ")"
   ]
  },
  {
   "cell_type": "code",
   "execution_count": 73,
   "metadata": {},
   "outputs": [
    {
     "data": {
      "text/html": [
       "<style>#sk-container-id-10 {color: black;background-color: white;}#sk-container-id-10 pre{padding: 0;}#sk-container-id-10 div.sk-toggleable {background-color: white;}#sk-container-id-10 label.sk-toggleable__label {cursor: pointer;display: block;width: 100%;margin-bottom: 0;padding: 0.3em;box-sizing: border-box;text-align: center;}#sk-container-id-10 label.sk-toggleable__label-arrow:before {content: \"▸\";float: left;margin-right: 0.25em;color: #696969;}#sk-container-id-10 label.sk-toggleable__label-arrow:hover:before {color: black;}#sk-container-id-10 div.sk-estimator:hover label.sk-toggleable__label-arrow:before {color: black;}#sk-container-id-10 div.sk-toggleable__content {max-height: 0;max-width: 0;overflow: hidden;text-align: left;background-color: #f0f8ff;}#sk-container-id-10 div.sk-toggleable__content pre {margin: 0.2em;color: black;border-radius: 0.25em;background-color: #f0f8ff;}#sk-container-id-10 input.sk-toggleable__control:checked~div.sk-toggleable__content {max-height: 200px;max-width: 100%;overflow: auto;}#sk-container-id-10 input.sk-toggleable__control:checked~label.sk-toggleable__label-arrow:before {content: \"▾\";}#sk-container-id-10 div.sk-estimator input.sk-toggleable__control:checked~label.sk-toggleable__label {background-color: #d4ebff;}#sk-container-id-10 div.sk-label input.sk-toggleable__control:checked~label.sk-toggleable__label {background-color: #d4ebff;}#sk-container-id-10 input.sk-hidden--visually {border: 0;clip: rect(1px 1px 1px 1px);clip: rect(1px, 1px, 1px, 1px);height: 1px;margin: -1px;overflow: hidden;padding: 0;position: absolute;width: 1px;}#sk-container-id-10 div.sk-estimator {font-family: monospace;background-color: #f0f8ff;border: 1px dotted black;border-radius: 0.25em;box-sizing: border-box;margin-bottom: 0.5em;}#sk-container-id-10 div.sk-estimator:hover {background-color: #d4ebff;}#sk-container-id-10 div.sk-parallel-item::after {content: \"\";width: 100%;border-bottom: 1px solid gray;flex-grow: 1;}#sk-container-id-10 div.sk-label:hover label.sk-toggleable__label {background-color: #d4ebff;}#sk-container-id-10 div.sk-serial::before {content: \"\";position: absolute;border-left: 1px solid gray;box-sizing: border-box;top: 0;bottom: 0;left: 50%;z-index: 0;}#sk-container-id-10 div.sk-serial {display: flex;flex-direction: column;align-items: center;background-color: white;padding-right: 0.2em;padding-left: 0.2em;position: relative;}#sk-container-id-10 div.sk-item {position: relative;z-index: 1;}#sk-container-id-10 div.sk-parallel {display: flex;align-items: stretch;justify-content: center;background-color: white;position: relative;}#sk-container-id-10 div.sk-item::before, #sk-container-id-10 div.sk-parallel-item::before {content: \"\";position: absolute;border-left: 1px solid gray;box-sizing: border-box;top: 0;bottom: 0;left: 50%;z-index: -1;}#sk-container-id-10 div.sk-parallel-item {display: flex;flex-direction: column;z-index: 1;position: relative;background-color: white;}#sk-container-id-10 div.sk-parallel-item:first-child::after {align-self: flex-end;width: 50%;}#sk-container-id-10 div.sk-parallel-item:last-child::after {align-self: flex-start;width: 50%;}#sk-container-id-10 div.sk-parallel-item:only-child::after {width: 0;}#sk-container-id-10 div.sk-dashed-wrapped {border: 1px dashed gray;margin: 0 0.4em 0.5em 0.4em;box-sizing: border-box;padding-bottom: 0.4em;background-color: white;}#sk-container-id-10 div.sk-label label {font-family: monospace;font-weight: bold;display: inline-block;line-height: 1.2em;}#sk-container-id-10 div.sk-label-container {text-align: center;}#sk-container-id-10 div.sk-container {/* jupyter's `normalize.less` sets `[hidden] { display: none; }` but bootstrap.min.css set `[hidden] { display: none !important; }` so we also need the `!important` here to be able to override the default hidden behavior on the sphinx rendered scikit-learn.org. See: https://github.com/scikit-learn/scikit-learn/issues/21755 */display: inline-block !important;position: relative;}#sk-container-id-10 div.sk-text-repr-fallback {display: none;}</style><div id=\"sk-container-id-10\" class=\"sk-top-container\"><div class=\"sk-text-repr-fallback\"><pre>SequentialFeatureSelector(cv=4,\n",
       "                          estimator=RandomForestClassifier(min_samples_split=5,\n",
       "                                                           n_estimators=500),\n",
       "                          n_features_to_select=&#x27;auto&#x27;, n_jobs=3,\n",
       "                          scoring=&#x27;neg_log_loss&#x27;, tol=0.002)</pre><b>In a Jupyter environment, please rerun this cell to show the HTML representation or trust the notebook. <br />On GitHub, the HTML representation is unable to render, please try loading this page with nbviewer.org.</b></div><div class=\"sk-container\" hidden><div class=\"sk-item sk-dashed-wrapped\"><div class=\"sk-label-container\"><div class=\"sk-label sk-toggleable\"><input class=\"sk-toggleable__control sk-hidden--visually\" id=\"sk-estimator-id-54\" type=\"checkbox\" ><label for=\"sk-estimator-id-54\" class=\"sk-toggleable__label sk-toggleable__label-arrow\">SequentialFeatureSelector</label><div class=\"sk-toggleable__content\"><pre>SequentialFeatureSelector(cv=4,\n",
       "                          estimator=RandomForestClassifier(min_samples_split=5,\n",
       "                                                           n_estimators=500),\n",
       "                          n_features_to_select=&#x27;auto&#x27;, n_jobs=3,\n",
       "                          scoring=&#x27;neg_log_loss&#x27;, tol=0.002)</pre></div></div></div><div class=\"sk-parallel\"><div class=\"sk-parallel-item\"><div class=\"sk-item\"><div class=\"sk-label-container\"><div class=\"sk-label sk-toggleable\"><input class=\"sk-toggleable__control sk-hidden--visually\" id=\"sk-estimator-id-55\" type=\"checkbox\" ><label for=\"sk-estimator-id-55\" class=\"sk-toggleable__label sk-toggleable__label-arrow\">estimator: RandomForestClassifier</label><div class=\"sk-toggleable__content\"><pre>RandomForestClassifier(min_samples_split=5, n_estimators=500)</pre></div></div></div><div class=\"sk-serial\"><div class=\"sk-item\"><div class=\"sk-estimator sk-toggleable\"><input class=\"sk-toggleable__control sk-hidden--visually\" id=\"sk-estimator-id-56\" type=\"checkbox\" ><label for=\"sk-estimator-id-56\" class=\"sk-toggleable__label sk-toggleable__label-arrow\">RandomForestClassifier</label><div class=\"sk-toggleable__content\"><pre>RandomForestClassifier(min_samples_split=5, n_estimators=500)</pre></div></div></div></div></div></div></div></div></div></div>"
      ],
      "text/plain": [
       "SequentialFeatureSelector(cv=4,\n",
       "                          estimator=RandomForestClassifier(min_samples_split=5,\n",
       "                                                           n_estimators=500),\n",
       "                          n_features_to_select='auto', n_jobs=3,\n",
       "                          scoring='neg_log_loss', tol=0.002)"
      ]
     },
     "execution_count": 73,
     "metadata": {},
     "output_type": "execute_result"
    }
   ],
   "source": [
    "sfs"
   ]
  },
  {
   "cell_type": "code",
   "execution_count": 74,
   "metadata": {},
   "outputs": [
    {
     "data": {
      "text/html": [
       "<style>#sk-container-id-11 {color: black;background-color: white;}#sk-container-id-11 pre{padding: 0;}#sk-container-id-11 div.sk-toggleable {background-color: white;}#sk-container-id-11 label.sk-toggleable__label {cursor: pointer;display: block;width: 100%;margin-bottom: 0;padding: 0.3em;box-sizing: border-box;text-align: center;}#sk-container-id-11 label.sk-toggleable__label-arrow:before {content: \"▸\";float: left;margin-right: 0.25em;color: #696969;}#sk-container-id-11 label.sk-toggleable__label-arrow:hover:before {color: black;}#sk-container-id-11 div.sk-estimator:hover label.sk-toggleable__label-arrow:before {color: black;}#sk-container-id-11 div.sk-toggleable__content {max-height: 0;max-width: 0;overflow: hidden;text-align: left;background-color: #f0f8ff;}#sk-container-id-11 div.sk-toggleable__content pre {margin: 0.2em;color: black;border-radius: 0.25em;background-color: #f0f8ff;}#sk-container-id-11 input.sk-toggleable__control:checked~div.sk-toggleable__content {max-height: 200px;max-width: 100%;overflow: auto;}#sk-container-id-11 input.sk-toggleable__control:checked~label.sk-toggleable__label-arrow:before {content: \"▾\";}#sk-container-id-11 div.sk-estimator input.sk-toggleable__control:checked~label.sk-toggleable__label {background-color: #d4ebff;}#sk-container-id-11 div.sk-label input.sk-toggleable__control:checked~label.sk-toggleable__label {background-color: #d4ebff;}#sk-container-id-11 input.sk-hidden--visually {border: 0;clip: rect(1px 1px 1px 1px);clip: rect(1px, 1px, 1px, 1px);height: 1px;margin: -1px;overflow: hidden;padding: 0;position: absolute;width: 1px;}#sk-container-id-11 div.sk-estimator {font-family: monospace;background-color: #f0f8ff;border: 1px dotted black;border-radius: 0.25em;box-sizing: border-box;margin-bottom: 0.5em;}#sk-container-id-11 div.sk-estimator:hover {background-color: #d4ebff;}#sk-container-id-11 div.sk-parallel-item::after {content: \"\";width: 100%;border-bottom: 1px solid gray;flex-grow: 1;}#sk-container-id-11 div.sk-label:hover label.sk-toggleable__label {background-color: #d4ebff;}#sk-container-id-11 div.sk-serial::before {content: \"\";position: absolute;border-left: 1px solid gray;box-sizing: border-box;top: 0;bottom: 0;left: 50%;z-index: 0;}#sk-container-id-11 div.sk-serial {display: flex;flex-direction: column;align-items: center;background-color: white;padding-right: 0.2em;padding-left: 0.2em;position: relative;}#sk-container-id-11 div.sk-item {position: relative;z-index: 1;}#sk-container-id-11 div.sk-parallel {display: flex;align-items: stretch;justify-content: center;background-color: white;position: relative;}#sk-container-id-11 div.sk-item::before, #sk-container-id-11 div.sk-parallel-item::before {content: \"\";position: absolute;border-left: 1px solid gray;box-sizing: border-box;top: 0;bottom: 0;left: 50%;z-index: -1;}#sk-container-id-11 div.sk-parallel-item {display: flex;flex-direction: column;z-index: 1;position: relative;background-color: white;}#sk-container-id-11 div.sk-parallel-item:first-child::after {align-self: flex-end;width: 50%;}#sk-container-id-11 div.sk-parallel-item:last-child::after {align-self: flex-start;width: 50%;}#sk-container-id-11 div.sk-parallel-item:only-child::after {width: 0;}#sk-container-id-11 div.sk-dashed-wrapped {border: 1px dashed gray;margin: 0 0.4em 0.5em 0.4em;box-sizing: border-box;padding-bottom: 0.4em;background-color: white;}#sk-container-id-11 div.sk-label label {font-family: monospace;font-weight: bold;display: inline-block;line-height: 1.2em;}#sk-container-id-11 div.sk-label-container {text-align: center;}#sk-container-id-11 div.sk-container {/* jupyter's `normalize.less` sets `[hidden] { display: none; }` but bootstrap.min.css set `[hidden] { display: none !important; }` so we also need the `!important` here to be able to override the default hidden behavior on the sphinx rendered scikit-learn.org. See: https://github.com/scikit-learn/scikit-learn/issues/21755 */display: inline-block !important;position: relative;}#sk-container-id-11 div.sk-text-repr-fallback {display: none;}</style><div id=\"sk-container-id-11\" class=\"sk-top-container\"><div class=\"sk-text-repr-fallback\"><pre>SequentialFeatureSelector(cv=4,\n",
       "                          estimator=RandomForestClassifier(min_samples_split=5,\n",
       "                                                           n_estimators=500),\n",
       "                          n_features_to_select=&#x27;auto&#x27;, n_jobs=3,\n",
       "                          scoring=&#x27;neg_log_loss&#x27;, tol=0.002)</pre><b>In a Jupyter environment, please rerun this cell to show the HTML representation or trust the notebook. <br />On GitHub, the HTML representation is unable to render, please try loading this page with nbviewer.org.</b></div><div class=\"sk-container\" hidden><div class=\"sk-item sk-dashed-wrapped\"><div class=\"sk-label-container\"><div class=\"sk-label sk-toggleable\"><input class=\"sk-toggleable__control sk-hidden--visually\" id=\"sk-estimator-id-57\" type=\"checkbox\" ><label for=\"sk-estimator-id-57\" class=\"sk-toggleable__label sk-toggleable__label-arrow\">SequentialFeatureSelector</label><div class=\"sk-toggleable__content\"><pre>SequentialFeatureSelector(cv=4,\n",
       "                          estimator=RandomForestClassifier(min_samples_split=5,\n",
       "                                                           n_estimators=500),\n",
       "                          n_features_to_select=&#x27;auto&#x27;, n_jobs=3,\n",
       "                          scoring=&#x27;neg_log_loss&#x27;, tol=0.002)</pre></div></div></div><div class=\"sk-parallel\"><div class=\"sk-parallel-item\"><div class=\"sk-item\"><div class=\"sk-label-container\"><div class=\"sk-label sk-toggleable\"><input class=\"sk-toggleable__control sk-hidden--visually\" id=\"sk-estimator-id-58\" type=\"checkbox\" ><label for=\"sk-estimator-id-58\" class=\"sk-toggleable__label sk-toggleable__label-arrow\">estimator: RandomForestClassifier</label><div class=\"sk-toggleable__content\"><pre>RandomForestClassifier(min_samples_split=5, n_estimators=500)</pre></div></div></div><div class=\"sk-serial\"><div class=\"sk-item\"><div class=\"sk-estimator sk-toggleable\"><input class=\"sk-toggleable__control sk-hidden--visually\" id=\"sk-estimator-id-59\" type=\"checkbox\" ><label for=\"sk-estimator-id-59\" class=\"sk-toggleable__label sk-toggleable__label-arrow\">RandomForestClassifier</label><div class=\"sk-toggleable__content\"><pre>RandomForestClassifier(min_samples_split=5, n_estimators=500)</pre></div></div></div></div></div></div></div></div></div></div>"
      ],
      "text/plain": [
       "SequentialFeatureSelector(cv=4,\n",
       "                          estimator=RandomForestClassifier(min_samples_split=5,\n",
       "                                                           n_estimators=500),\n",
       "                          n_features_to_select='auto', n_jobs=3,\n",
       "                          scoring='neg_log_loss', tol=0.002)"
      ]
     },
     "execution_count": 74,
     "metadata": {},
     "output_type": "execute_result"
    }
   ],
   "source": [
    "sfs.fit(X_fe_num, y)"
   ]
  },
  {
   "cell_type": "code",
   "execution_count": 92,
   "metadata": {},
   "outputs": [],
   "source": [
    "features_selected[\"seq_feat_sel\"] = x_transformer.get_feature_names_out()[\n",
    "    sfs.support_\n",
    "].tolist()"
   ]
  },
  {
   "attachments": {},
   "cell_type": "markdown",
   "metadata": {},
   "source": [
    "### Selection by feature importance"
   ]
  },
  {
   "cell_type": "code",
   "execution_count": 81,
   "metadata": {},
   "outputs": [
    {
     "data": {
      "text/html": [
       "<style>#sk-container-id-12 {color: black;background-color: white;}#sk-container-id-12 pre{padding: 0;}#sk-container-id-12 div.sk-toggleable {background-color: white;}#sk-container-id-12 label.sk-toggleable__label {cursor: pointer;display: block;width: 100%;margin-bottom: 0;padding: 0.3em;box-sizing: border-box;text-align: center;}#sk-container-id-12 label.sk-toggleable__label-arrow:before {content: \"▸\";float: left;margin-right: 0.25em;color: #696969;}#sk-container-id-12 label.sk-toggleable__label-arrow:hover:before {color: black;}#sk-container-id-12 div.sk-estimator:hover label.sk-toggleable__label-arrow:before {color: black;}#sk-container-id-12 div.sk-toggleable__content {max-height: 0;max-width: 0;overflow: hidden;text-align: left;background-color: #f0f8ff;}#sk-container-id-12 div.sk-toggleable__content pre {margin: 0.2em;color: black;border-radius: 0.25em;background-color: #f0f8ff;}#sk-container-id-12 input.sk-toggleable__control:checked~div.sk-toggleable__content {max-height: 200px;max-width: 100%;overflow: auto;}#sk-container-id-12 input.sk-toggleable__control:checked~label.sk-toggleable__label-arrow:before {content: \"▾\";}#sk-container-id-12 div.sk-estimator input.sk-toggleable__control:checked~label.sk-toggleable__label {background-color: #d4ebff;}#sk-container-id-12 div.sk-label input.sk-toggleable__control:checked~label.sk-toggleable__label {background-color: #d4ebff;}#sk-container-id-12 input.sk-hidden--visually {border: 0;clip: rect(1px 1px 1px 1px);clip: rect(1px, 1px, 1px, 1px);height: 1px;margin: -1px;overflow: hidden;padding: 0;position: absolute;width: 1px;}#sk-container-id-12 div.sk-estimator {font-family: monospace;background-color: #f0f8ff;border: 1px dotted black;border-radius: 0.25em;box-sizing: border-box;margin-bottom: 0.5em;}#sk-container-id-12 div.sk-estimator:hover {background-color: #d4ebff;}#sk-container-id-12 div.sk-parallel-item::after {content: \"\";width: 100%;border-bottom: 1px solid gray;flex-grow: 1;}#sk-container-id-12 div.sk-label:hover label.sk-toggleable__label {background-color: #d4ebff;}#sk-container-id-12 div.sk-serial::before {content: \"\";position: absolute;border-left: 1px solid gray;box-sizing: border-box;top: 0;bottom: 0;left: 50%;z-index: 0;}#sk-container-id-12 div.sk-serial {display: flex;flex-direction: column;align-items: center;background-color: white;padding-right: 0.2em;padding-left: 0.2em;position: relative;}#sk-container-id-12 div.sk-item {position: relative;z-index: 1;}#sk-container-id-12 div.sk-parallel {display: flex;align-items: stretch;justify-content: center;background-color: white;position: relative;}#sk-container-id-12 div.sk-item::before, #sk-container-id-12 div.sk-parallel-item::before {content: \"\";position: absolute;border-left: 1px solid gray;box-sizing: border-box;top: 0;bottom: 0;left: 50%;z-index: -1;}#sk-container-id-12 div.sk-parallel-item {display: flex;flex-direction: column;z-index: 1;position: relative;background-color: white;}#sk-container-id-12 div.sk-parallel-item:first-child::after {align-self: flex-end;width: 50%;}#sk-container-id-12 div.sk-parallel-item:last-child::after {align-self: flex-start;width: 50%;}#sk-container-id-12 div.sk-parallel-item:only-child::after {width: 0;}#sk-container-id-12 div.sk-dashed-wrapped {border: 1px dashed gray;margin: 0 0.4em 0.5em 0.4em;box-sizing: border-box;padding-bottom: 0.4em;background-color: white;}#sk-container-id-12 div.sk-label label {font-family: monospace;font-weight: bold;display: inline-block;line-height: 1.2em;}#sk-container-id-12 div.sk-label-container {text-align: center;}#sk-container-id-12 div.sk-container {/* jupyter's `normalize.less` sets `[hidden] { display: none; }` but bootstrap.min.css set `[hidden] { display: none !important; }` so we also need the `!important` here to be able to override the default hidden behavior on the sphinx rendered scikit-learn.org. See: https://github.com/scikit-learn/scikit-learn/issues/21755 */display: inline-block !important;position: relative;}#sk-container-id-12 div.sk-text-repr-fallback {display: none;}</style><div id=\"sk-container-id-12\" class=\"sk-top-container\"><div class=\"sk-text-repr-fallback\"><pre>RandomForestClassifier(min_samples_split=3, n_estimators=500)</pre><b>In a Jupyter environment, please rerun this cell to show the HTML representation or trust the notebook. <br />On GitHub, the HTML representation is unable to render, please try loading this page with nbviewer.org.</b></div><div class=\"sk-container\" hidden><div class=\"sk-item\"><div class=\"sk-estimator sk-toggleable\"><input class=\"sk-toggleable__control sk-hidden--visually\" id=\"sk-estimator-id-60\" type=\"checkbox\" checked><label for=\"sk-estimator-id-60\" class=\"sk-toggleable__label sk-toggleable__label-arrow\">RandomForestClassifier</label><div class=\"sk-toggleable__content\"><pre>RandomForestClassifier(min_samples_split=3, n_estimators=500)</pre></div></div></div></div></div>"
      ],
      "text/plain": [
       "RandomForestClassifier(min_samples_split=3, n_estimators=500)"
      ]
     },
     "execution_count": 81,
     "metadata": {},
     "output_type": "execute_result"
    }
   ],
   "source": [
    "rfc = RandomForestClassifier(n_estimators=500, min_samples_split=3)\n",
    "rfc.fit(X_fe_num, y)"
   ]
  },
  {
   "cell_type": "code",
   "execution_count": 82,
   "metadata": {},
   "outputs": [],
   "source": [
    "rfc_feat_imp = pd.Series(\n",
    "    rfc.feature_importances_, index=x_transformer.get_feature_names_out()\n",
    ").sort_values()"
   ]
  },
  {
   "cell_type": "code",
   "execution_count": 83,
   "metadata": {},
   "outputs": [
    {
     "data": {
      "text/plain": [
       "<Axes: >"
      ]
     },
     "execution_count": 83,
     "metadata": {},
     "output_type": "execute_result"
    },
    {
     "data": {
      "image/png": "[encoded data removed]",
      "text/plain": [
       "<Figure size 640x480 with 1 Axes>"
      ]
     },
     "metadata": {},
     "output_type": "display_data"
    }
   ],
   "source": [
    "rfc_feat_imp.tail(30).plot.barh()"
   ]
  },
  {
   "cell_type": "code",
   "execution_count": 89,
   "metadata": {},
   "outputs": [],
   "source": [
    "features_selected[\"rfc_feat_imp\"] = rfc_feat_imp.loc[lambda x: x > 0.03].index.tolist()"
   ]
  },
  {
   "cell_type": "code",
   "execution_count": 98,
   "metadata": {},
   "outputs": [
    {
     "name": "stdout",
     "output_type": "stream",
     "text": [
      "The number of selected features by variance_threshold is 28\n",
      "The number of selected features by f_classif is 15\n",
      "The number of selected features by mutual_inf is 15\n",
      "The number of selected features by seq_feat_sel is 3\n",
      "The number of selected features by rfc_feat_imp is 12\n"
     ]
    }
   ],
   "source": [
    "print(\n",
    "    *(\n",
    "        f\"The number of selected features by {k} is {len(v)}\"\n",
    "        for k, v in features_selected.items()\n",
    "    ),\n",
    "    sep=\"\\n\",\n",
    ")"
   ]
  },
  {
   "cell_type": "code",
   "execution_count": 99,
   "metadata": {},
   "outputs": [],
   "source": [
    "import pickle\n",
    "\n",
    "with open(\"../data/features_selected.pkl\", \"wb\") as f:\n",
    "    pickle.dump(features_selected, f)"
   ]
  }
 ],
 "metadata": {
  "kernelspec": {
   "display_name": "ml39",
   "language": "python",
   "name": "python3"
  },
  "language_info": {
   "codemirror_mode": {
    "name": "ipython",
    "version": 3
   },
   "file_extension": ".py",
   "mimetype": "text/x-python",
   "name": "python",
   "nbconvert_exporter": "python",
   "pygments_lexer": "ipython3",
   "version": "3.9.17"
  },
  "orig_nbformat": 4,
  "vscode": {
   "interpreter": {
    "hash": "756fb8987e7490d4ac0cb9b423fd098ee2136a1dfd28da438447905012e052ac"
   }
  }
 },
 "nbformat": 4,
 "nbformat_minor": 2
}
