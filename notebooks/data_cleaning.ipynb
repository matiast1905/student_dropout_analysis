{
 "cells": [
  {
   "cell_type": "code",
   "execution_count": 25,
   "metadata": {},
   "outputs": [
    {
     "name": "stdout",
     "output_type": "stream",
     "text": [
      "The jupyter_black extension is already loaded. To reload it, use:\n",
      "  %reload_ext jupyter_black\n"
     ]
    }
   ],
   "source": [
    "%load_ext jupyter_black"
   ]
  },
  {
   "cell_type": "code",
   "execution_count": 26,
   "metadata": {},
   "outputs": [],
   "source": [
    "import pandas as pd\n",
    "import numpy as np\n",
    "import re\n",
    "from functools import partial\n",
    "import pickle"
   ]
  },
  {
   "cell_type": "code",
   "execution_count": 27,
   "metadata": {},
   "outputs": [],
   "source": [
    "students_raw = pd.read_csv(\"../data/students_dropout_raw.csv\", sep=\";\")"
   ]
  },
  {
   "cell_type": "code",
   "execution_count": 28,
   "metadata": {},
   "outputs": [
    {
     "data": {
      "text/html": [
       "<div>\n",
       "<style scoped>\n",
       "    .dataframe tbody tr th:only-of-type {\n",
       "        vertical-align: middle;\n",
       "    }\n",
       "\n",
       "    .dataframe tbody tr th {\n",
       "        vertical-align: top;\n",
       "    }\n",
       "\n",
       "    .dataframe thead th {\n",
       "        text-align: right;\n",
       "    }\n",
       "</style>\n",
       "<table border=\"1\" class=\"dataframe\">\n",
       "  <thead>\n",
       "    <tr style=\"text-align: right;\">\n",
       "      <th></th>\n",
       "      <th>Marital status</th>\n",
       "      <th>Application mode</th>\n",
       "      <th>Application order</th>\n",
       "      <th>Course</th>\n",
       "      <th>Daytime/evening attendance</th>\n",
       "      <th>Previous qualification</th>\n",
       "      <th>Nacionality</th>\n",
       "      <th>Mother's qualification</th>\n",
       "      <th>Father's qualification</th>\n",
       "      <th>Mother's occupation</th>\n",
       "      <th>...</th>\n",
       "      <th>Curricular units 2nd sem (credited)</th>\n",
       "      <th>Curricular units 2nd sem (enrolled)</th>\n",
       "      <th>Curricular units 2nd sem (evaluations)</th>\n",
       "      <th>Curricular units 2nd sem (approved)</th>\n",
       "      <th>Curricular units 2nd sem (grade)</th>\n",
       "      <th>Curricular units 2nd sem (without evaluations)</th>\n",
       "      <th>Unemployment rate</th>\n",
       "      <th>Inflation rate</th>\n",
       "      <th>GDP</th>\n",
       "      <th>Target</th>\n",
       "    </tr>\n",
       "  </thead>\n",
       "  <tbody>\n",
       "    <tr>\n",
       "      <th>0</th>\n",
       "      <td>1</td>\n",
       "      <td>8</td>\n",
       "      <td>5</td>\n",
       "      <td>2</td>\n",
       "      <td>1</td>\n",
       "      <td>1</td>\n",
       "      <td>1</td>\n",
       "      <td>13</td>\n",
       "      <td>10</td>\n",
       "      <td>6</td>\n",
       "      <td>...</td>\n",
       "      <td>0</td>\n",
       "      <td>0</td>\n",
       "      <td>0</td>\n",
       "      <td>0</td>\n",
       "      <td>0.000000</td>\n",
       "      <td>0</td>\n",
       "      <td>10.8</td>\n",
       "      <td>1.4</td>\n",
       "      <td>1.74</td>\n",
       "      <td>Dropout</td>\n",
       "    </tr>\n",
       "    <tr>\n",
       "      <th>1</th>\n",
       "      <td>1</td>\n",
       "      <td>6</td>\n",
       "      <td>1</td>\n",
       "      <td>11</td>\n",
       "      <td>1</td>\n",
       "      <td>1</td>\n",
       "      <td>1</td>\n",
       "      <td>1</td>\n",
       "      <td>3</td>\n",
       "      <td>4</td>\n",
       "      <td>...</td>\n",
       "      <td>0</td>\n",
       "      <td>6</td>\n",
       "      <td>6</td>\n",
       "      <td>6</td>\n",
       "      <td>13.666667</td>\n",
       "      <td>0</td>\n",
       "      <td>13.9</td>\n",
       "      <td>-0.3</td>\n",
       "      <td>0.79</td>\n",
       "      <td>Graduate</td>\n",
       "    </tr>\n",
       "    <tr>\n",
       "      <th>2</th>\n",
       "      <td>1</td>\n",
       "      <td>1</td>\n",
       "      <td>5</td>\n",
       "      <td>5</td>\n",
       "      <td>1</td>\n",
       "      <td>1</td>\n",
       "      <td>1</td>\n",
       "      <td>22</td>\n",
       "      <td>27</td>\n",
       "      <td>10</td>\n",
       "      <td>...</td>\n",
       "      <td>0</td>\n",
       "      <td>6</td>\n",
       "      <td>0</td>\n",
       "      <td>0</td>\n",
       "      <td>0.000000</td>\n",
       "      <td>0</td>\n",
       "      <td>10.8</td>\n",
       "      <td>1.4</td>\n",
       "      <td>1.74</td>\n",
       "      <td>Dropout</td>\n",
       "    </tr>\n",
       "    <tr>\n",
       "      <th>3</th>\n",
       "      <td>1</td>\n",
       "      <td>8</td>\n",
       "      <td>2</td>\n",
       "      <td>15</td>\n",
       "      <td>1</td>\n",
       "      <td>1</td>\n",
       "      <td>1</td>\n",
       "      <td>23</td>\n",
       "      <td>27</td>\n",
       "      <td>6</td>\n",
       "      <td>...</td>\n",
       "      <td>0</td>\n",
       "      <td>6</td>\n",
       "      <td>10</td>\n",
       "      <td>5</td>\n",
       "      <td>12.400000</td>\n",
       "      <td>0</td>\n",
       "      <td>9.4</td>\n",
       "      <td>-0.8</td>\n",
       "      <td>-3.12</td>\n",
       "      <td>Graduate</td>\n",
       "    </tr>\n",
       "    <tr>\n",
       "      <th>4</th>\n",
       "      <td>2</td>\n",
       "      <td>12</td>\n",
       "      <td>1</td>\n",
       "      <td>3</td>\n",
       "      <td>0</td>\n",
       "      <td>1</td>\n",
       "      <td>1</td>\n",
       "      <td>22</td>\n",
       "      <td>28</td>\n",
       "      <td>10</td>\n",
       "      <td>...</td>\n",
       "      <td>0</td>\n",
       "      <td>6</td>\n",
       "      <td>6</td>\n",
       "      <td>6</td>\n",
       "      <td>13.000000</td>\n",
       "      <td>0</td>\n",
       "      <td>13.9</td>\n",
       "      <td>-0.3</td>\n",
       "      <td>0.79</td>\n",
       "      <td>Graduate</td>\n",
       "    </tr>\n",
       "  </tbody>\n",
       "</table>\n",
       "<p>5 rows × 35 columns</p>\n",
       "</div>"
      ],
      "text/plain": [
       "   Marital status  Application mode  Application order  Course  \\\n",
       "0               1                 8                  5       2   \n",
       "1               1                 6                  1      11   \n",
       "2               1                 1                  5       5   \n",
       "3               1                 8                  2      15   \n",
       "4               2                12                  1       3   \n",
       "\n",
       "   Daytime/evening attendance  Previous qualification  Nacionality  \\\n",
       "0                           1                       1            1   \n",
       "1                           1                       1            1   \n",
       "2                           1                       1            1   \n",
       "3                           1                       1            1   \n",
       "4                           0                       1            1   \n",
       "\n",
       "   Mother's qualification  Father's qualification  Mother's occupation  ...  \\\n",
       "0                      13                      10                    6  ...   \n",
       "1                       1                       3                    4  ...   \n",
       "2                      22                      27                   10  ...   \n",
       "3                      23                      27                    6  ...   \n",
       "4                      22                      28                   10  ...   \n",
       "\n",
       "   Curricular units 2nd sem (credited)  Curricular units 2nd sem (enrolled)  \\\n",
       "0                                    0                                    0   \n",
       "1                                    0                                    6   \n",
       "2                                    0                                    6   \n",
       "3                                    0                                    6   \n",
       "4                                    0                                    6   \n",
       "\n",
       "   Curricular units 2nd sem (evaluations)  \\\n",
       "0                                       0   \n",
       "1                                       6   \n",
       "2                                       0   \n",
       "3                                      10   \n",
       "4                                       6   \n",
       "\n",
       "   Curricular units 2nd sem (approved)  Curricular units 2nd sem (grade)  \\\n",
       "0                                    0                          0.000000   \n",
       "1                                    6                         13.666667   \n",
       "2                                    0                          0.000000   \n",
       "3                                    5                         12.400000   \n",
       "4                                    6                         13.000000   \n",
       "\n",
       "   Curricular units 2nd sem (without evaluations)  Unemployment rate  \\\n",
       "0                                               0               10.8   \n",
       "1                                               0               13.9   \n",
       "2                                               0               10.8   \n",
       "3                                               0                9.4   \n",
       "4                                               0               13.9   \n",
       "\n",
       "   Inflation rate   GDP    Target  \n",
       "0             1.4  1.74   Dropout  \n",
       "1            -0.3  0.79  Graduate  \n",
       "2             1.4  1.74   Dropout  \n",
       "3            -0.8 -3.12  Graduate  \n",
       "4            -0.3  0.79  Graduate  \n",
       "\n",
       "[5 rows x 35 columns]"
      ]
     },
     "execution_count": 28,
     "metadata": {},
     "output_type": "execute_result"
    }
   ],
   "source": [
    "students_raw.head()"
   ]
  },
  {
   "cell_type": "code",
   "execution_count": 29,
   "metadata": {},
   "outputs": [
    {
     "data": {
      "text/plain": [
       "Index(['Marital status', 'Application mode', 'Application order', 'Course',\n",
       "       'Daytime/evening attendance', 'Previous qualification', 'Nacionality',\n",
       "       'Mother's qualification', 'Father's qualification',\n",
       "       'Mother's occupation', 'Father's occupation', 'Displaced',\n",
       "       'Educational special needs', 'Debtor', 'Tuition fees up to date',\n",
       "       'Gender', 'Scholarship holder', 'Age at enrollment', 'International',\n",
       "       'Curricular units 1st sem (credited)',\n",
       "       'Curricular units 1st sem (enrolled)',\n",
       "       'Curricular units 1st sem (evaluations)',\n",
       "       'Curricular units 1st sem (approved)',\n",
       "       'Curricular units 1st sem (grade)',\n",
       "       'Curricular units 1st sem (without evaluations)',\n",
       "       'Curricular units 2nd sem (credited)',\n",
       "       'Curricular units 2nd sem (enrolled)',\n",
       "       'Curricular units 2nd sem (evaluations)',\n",
       "       'Curricular units 2nd sem (approved)',\n",
       "       'Curricular units 2nd sem (grade)',\n",
       "       'Curricular units 2nd sem (without evaluations)', 'Unemployment rate',\n",
       "       'Inflation rate', 'GDP', 'Target'],\n",
       "      dtype='object')"
      ]
     },
     "execution_count": 29,
     "metadata": {},
     "output_type": "execute_result"
    }
   ],
   "source": [
    "students_raw.columns"
   ]
  },
  {
   "cell_type": "code",
   "execution_count": 30,
   "metadata": {},
   "outputs": [],
   "source": [
    "def names_cleaning_1(df):\n",
    "    df = df.copy()\n",
    "    # Rename the columns\n",
    "    df = df.rename(columns=lambda x: x.replace(\" \", \"_\").lower())\n",
    "    # Rename the nationality column, spelled 'nacionality' in the original data\n",
    "    df = df.rename(columns={\"nacionality\": \"nationality\"})\n",
    "    df[\"dropout\"] = np.where(df[\"target\"] == \"Dropout\", 1, 0)\n",
    "    df = df.drop(columns=\"target\")\n",
    "    return df"
   ]
  },
  {
   "cell_type": "code",
   "execution_count": 31,
   "metadata": {},
   "outputs": [],
   "source": [
    "students = students_raw.pipe(names_cleaning_1)"
   ]
  },
  {
   "cell_type": "markdown",
   "metadata": {},
   "source": [
    "Let's match the categorical columns with the original categories, loading the dictionary scraped from the site"
   ]
  },
  {
   "cell_type": "code",
   "execution_count": 32,
   "metadata": {},
   "outputs": [],
   "source": [
    "with open(\"../data/categorical_maps.pkl\", \"rb\") as f:\n",
    "    data_map = pickle.load(f)"
   ]
  },
  {
   "cell_type": "code",
   "execution_count": 33,
   "metadata": {},
   "outputs": [],
   "source": [
    "cat_columns = [k for k, v in data_map.items() if not isinstance(v, str)]\n",
    "num_columns_dict = {k: v for k, v in data_map.items() if isinstance(v, str)}"
   ]
  },
  {
   "cell_type": "code",
   "execution_count": 34,
   "metadata": {},
   "outputs": [
    {
     "data": {
      "text/plain": [
       "['marital_status',\n",
       " 'nationality',\n",
       " 'displaced',\n",
       " 'gender',\n",
       " 'international',\n",
       " \"father's_qualification\",\n",
       " \"mother's_qualification\",\n",
       " \"father's_occupation\",\n",
       " \"mother's_occupation\",\n",
       " 'educational_special_needs',\n",
       " 'debtor',\n",
       " 'tuition_fees_up_to_date',\n",
       " 'scholarship_holder',\n",
       " 'application_mode',\n",
       " 'course',\n",
       " 'daytime/evening_attendance',\n",
       " 'previous_qualification']"
      ]
     },
     "execution_count": 34,
     "metadata": {},
     "output_type": "execute_result"
    }
   ],
   "source": [
    "cat_columns"
   ]
  },
  {
   "cell_type": "code",
   "execution_count": 35,
   "metadata": {},
   "outputs": [
    {
     "data": {
      "text/plain": [
       "{'age_at_enrollment': 'Age of students at enrollment',\n",
       " 'unemployment_rate': 'Unemployment rate (%)',\n",
       " 'inflation_rate': 'Inflation rate (%)',\n",
       " 'gdp': 'Gross domestic product',\n",
       " 'application_order': 'Application order (between 0 - first choice; and 9 last choice)',\n",
       " 'curricular_units_1st_sem_(credited)': 'Number of curricular units credited in the 1st semester',\n",
       " 'curricular_units_1st_sem_(enrolled)': 'Number of curricular units enrolled in the 1st semester',\n",
       " 'curricular_units_1st_sem_(evaluations)': 'Number of evaluations to curricular units in the 1st semester',\n",
       " 'curricular_units_1st_sem_(approved)': 'Number of curricular units approved in the 1st semester',\n",
       " 'curricular_units_1st_sem_(grade)': 'Grade average in the 1st semester (between 0 and 20)',\n",
       " 'curricular_units_1st_sem_(without_evaluations)': 'Number of curricular units without evaluations in the 1st semester',\n",
       " 'curricular_units_2nd_sem_(credited)': 'Number of curricular units credited in the 2nd semester',\n",
       " 'curricular_units_2nd_sem_(enrolled)': 'Number of curricular units enrolled in the 2nd semester',\n",
       " 'curricular_units_2nd_sem_(evaluations)': 'Number of evaluations to curricular units in the 2nd semester',\n",
       " 'curricular_units_2nd_sem_(approved)': 'Number of curricular units approved in the 2nd semester',\n",
       " 'curricular_units_2nd_sem_(grade)': 'Grade average in the 2nd semester (between 0 and 20)',\n",
       " 'curricular_units_2nd_sem_(without_evaluations)': 'Number of curricular units without evaluations in the 2nd semester',\n",
       " 'target': 'Target. The problem is formulated as a three category classification task (Dropout, Enrolled, and Graduate) at the end of the normal duration of the course.'}"
      ]
     },
     "execution_count": 35,
     "metadata": {},
     "output_type": "execute_result"
    }
   ],
   "source": [
    "num_columns_dict"
   ]
  },
  {
   "cell_type": "code",
   "execution_count": 36,
   "metadata": {},
   "outputs": [
    {
     "data": {
      "text/plain": [
       "True"
      ]
     },
     "execution_count": 36,
     "metadata": {},
     "output_type": "execute_result"
    }
   ],
   "source": [
    "set(cat_columns).issubset(set(students.columns))"
   ]
  },
  {
   "attachments": {},
   "cell_type": "markdown",
   "metadata": {},
   "source": [
    "This mean that all the columns in our categorical columns dictionary are present in the data, that's a good sign. Now I'm going to replace the numerical values for the original categories of the data"
   ]
  },
  {
   "cell_type": "code",
   "execution_count": 37,
   "metadata": {},
   "outputs": [],
   "source": [
    "def map_categories(df, cat_columns, mapping_dict):\n",
    "    df = df.copy()\n",
    "    for col in cat_columns:\n",
    "        df[col] = df[col].map(mapping_dict.get(col))\n",
    "    return df"
   ]
  },
  {
   "cell_type": "code",
   "execution_count": 38,
   "metadata": {},
   "outputs": [],
   "source": [
    "students_cat = students.pipe(map_categories, cat_columns, data_map)"
   ]
  },
  {
   "attachments": {},
   "cell_type": "markdown",
   "metadata": {},
   "source": [
    "Now that we have our original categories back, let's perform a further clean of the column names"
   ]
  },
  {
   "cell_type": "code",
   "execution_count": 39,
   "metadata": {},
   "outputs": [],
   "source": [
    "def names_cleaning_2(df):\n",
    "    df = df.copy()\n",
    "    df = df.rename(\n",
    "        columns={\n",
    "            \"daytime/evening_attendance\": \"day/evening\",\n",
    "            \"educational_special_needs\": \"special_needs\",\n",
    "            \"gdp\": \"gdp_change\",\n",
    "        }\n",
    "    )\n",
    "    df = df.rename(\n",
    "        columns=lambda x: x.replace(\"'s\", \"\")\n",
    "        .replace(\"curricular_units_\", \"\")\n",
    "        .replace(\"1st\", \"first\")\n",
    "        .replace(\"2nd\", \"second\")\n",
    "        .replace(\"qualification\", \"education\")\n",
    "        .replace(\"/\", \"_\")\n",
    "    )\n",
    "    df = df.rename(columns=lambda x: re.sub(r\"\\((.*)\\)\", r\"\\1\", x))\n",
    "    return df"
   ]
  },
  {
   "cell_type": "code",
   "execution_count": 40,
   "metadata": {},
   "outputs": [],
   "source": [
    "students_cat = students_cat.pipe(names_cleaning_2)"
   ]
  },
  {
   "cell_type": "code",
   "execution_count": 41,
   "metadata": {},
   "outputs": [
    {
     "name": "stdout",
     "output_type": "stream",
     "text": [
      "The father occupation column have 46 distinct categories\n",
      "The mother occupation column have 32 distinct categories\n",
      "The father education column have 34 distinct categories\n",
      "The mother education column have 29 distinct categories\n",
      "The previous education column have 17 distinct categories\n"
     ]
    }
   ],
   "source": [
    "# Number of categories in the parents occupation and qualification columns\n",
    "\n",
    "print(\n",
    "    f'The father occupation column have {students_cat[\"father_occupation\"].nunique()} distinct categories'\n",
    ")\n",
    "print(\n",
    "    f'The mother occupation column have {students_cat[\"mother_occupation\"].nunique()} distinct categories'\n",
    ")\n",
    "print(\n",
    "    f'The father education column have {students_cat[\"father_education\"].nunique()} distinct categories'\n",
    ")\n",
    "print(\n",
    "    f'The mother education column have {students_cat[\"mother_education\"].nunique()} distinct categories'\n",
    ")\n",
    "print(\n",
    "    f'The previous education column have {students_cat[\"previous_education\"].nunique()} distinct categories'\n",
    ")"
   ]
  },
  {
   "attachments": {},
   "cell_type": "markdown",
   "metadata": {},
   "source": [
    "These are too many different values either for data visualization or machine learning. I will lump some categories together through dictionaries. Also, I will order to the education column categories based on years of education"
   ]
  },
  {
   "cell_type": "code",
   "execution_count": 42,
   "metadata": {},
   "outputs": [],
   "source": [
    "education_map = {\n",
    "    \"Higher Education\": \"Higher Education\",\n",
    "    \"Secondary Education|12th\": \"Secondary Education\",\n",
    "    \"Basic education 1st cycle|4th|5th\": \"Basic education 1st cycle\",\n",
    "    \"Basic Education 3rd Cycle|9th|10th|11th\": \"Basic Education 3rd Cycle\",\n",
    "    \"Basic Education 2nd Cycle|6th|7th|8th\": \"Basic Education 2nd Cycle\",\n",
    "    \"Unknown|Can't read\": \"Unknown\",\n",
    "    \"2nd cycle of the general high school\": \"Basic Education 3rd Cycle\",\n",
    "    \"course|Supplementary\": \"Tertiary course\",\n",
    "}\n",
    "\n",
    "education_order = [\n",
    "    \"Unknown\",\n",
    "    \"Basic education 1st cycle\",\n",
    "    \"Basic Education 2nd Cycle\",\n",
    "    \"Basic Education 3rd Cycle\",\n",
    "    \"Secondary Education\",\n",
    "    \"Tertiary course\",\n",
    "    \"Higher Education\",\n",
    "]\n",
    "\n",
    "occupation_map = {\n",
    "    \"Unskilled\": \"Unskilled\",\n",
    "    \"Administrative\": \"Administrative\",\n",
    "    \"Skilled\": \"Skilled\",\n",
    "    \"Technicians\": \"Technicians\",\n",
    "    \"Specialists\": \"Specialists\",\n",
    "    \"Operators\": \"Operators\",\n",
    "    \"Personal Services, Security and Safety Workers and Sellers\": \"Personal Services, Security and Safety Workers and Sellers\",\n",
    "    \"Managers\": \"Managers\",\n",
    "    \"Armed Forces Professions\": \"Armed Forces\",\n",
    "    \"Student\": \"Student\",\n",
    "}"
   ]
  },
  {
   "cell_type": "code",
   "execution_count": 43,
   "metadata": {},
   "outputs": [],
   "source": [
    "def map_values(x, map_dict):\n",
    "    try:\n",
    "        return next(\n",
    "            map_dict[k] for k in map_dict if re.search(k, x, flags=re.IGNORECASE)\n",
    "        )\n",
    "    except:\n",
    "        return \"Other\"\n",
    "\n",
    "\n",
    "map_education = partial(map_values, map_dict=education_map)\n",
    "map_occupation = partial(map_values, map_dict=occupation_map)"
   ]
  },
  {
   "cell_type": "code",
   "execution_count": 44,
   "metadata": {},
   "outputs": [],
   "source": [
    "students_cat[\"father_occupation\"] = students_cat[\"father_occupation\"].map(\n",
    "    map_occupation\n",
    ")\n",
    "students_cat[\"mother_occupation\"] = students_cat[\"mother_occupation\"].map(\n",
    "    map_occupation\n",
    ")\n",
    "students_cat[\"father_education\"] = students_cat[\"father_education\"].map(map_education)\n",
    "students_cat[\"mother_education\"] = students_cat[\"mother_education\"].map(map_education)\n",
    "students_cat[\"previous_education\"] = students_cat[\"previous_education\"].map(\n",
    "    map_education\n",
    ")"
   ]
  },
  {
   "cell_type": "code",
   "execution_count": 45,
   "metadata": {},
   "outputs": [
    {
     "name": "stdout",
     "output_type": "stream",
     "text": [
      "The father occupation column have 11 distinct categories\n",
      "The mother occupation column have 11 distinct categories\n",
      "The father education column have 7 distinct categories\n",
      "The mother education column have 7 distinct categories\n",
      "The previous education column have 5 distinct categories\n"
     ]
    }
   ],
   "source": [
    "# Check the new number of distinct categories\n",
    "\n",
    "print(\n",
    "    f'The father occupation column have {students_cat[\"father_occupation\"].nunique()} distinct categories'\n",
    ")\n",
    "print(\n",
    "    f'The mother occupation column have {students_cat[\"mother_occupation\"].nunique()} distinct categories'\n",
    ")\n",
    "print(\n",
    "    f'The father education column have {students_cat[\"father_education\"].nunique()} distinct categories'\n",
    ")\n",
    "print(\n",
    "    f'The mother education column have {students_cat[\"mother_education\"].nunique()} distinct categories'\n",
    ")\n",
    "print(\n",
    "    f'The previous education column have {students_cat[\"previous_education\"].nunique()} distinct categories'\n",
    ")"
   ]
  },
  {
   "cell_type": "code",
   "execution_count": 46,
   "metadata": {},
   "outputs": [
    {
     "data": {
      "text/plain": [
       "Secondary Education          3728\n",
       "Tertiary course               255\n",
       "Higher Education              220\n",
       "Basic Education 3rd Cycle     214\n",
       "Basic Education 2nd Cycle       7\n",
       "Name: previous_education, dtype: int64"
      ]
     },
     "execution_count": 46,
     "metadata": {},
     "output_type": "execute_result"
    }
   ],
   "source": [
    "students_cat.previous_education.value_counts()"
   ]
  },
  {
   "cell_type": "code",
   "execution_count": 47,
   "metadata": {},
   "outputs": [],
   "source": [
    "# Order the education columns\n",
    "students_cat[\"father_education\"] = (\n",
    "    students_cat[\"father_education\"]\n",
    "    .astype(\"category\")\n",
    "    .cat.reorder_categories(education_order, ordered=True)\n",
    ")\n",
    "students_cat[\"mother_education\"] = (\n",
    "    students_cat[\"mother_education\"]\n",
    "    .astype(\"category\")\n",
    "    .cat.reorder_categories(education_order, ordered=True)\n",
    ")"
   ]
  },
  {
   "cell_type": "code",
   "execution_count": 48,
   "metadata": {},
   "outputs": [
    {
     "data": {
      "text/plain": [
       "array(['Animation and Multimedia Design', 'Tourism',\n",
       "       'Communication Design', 'Journalism and Communication',\n",
       "       'Social Service (evening attendance)',\n",
       "       'Management (evening attendance)', 'Nursing', 'Social Service',\n",
       "       'Advertising and Marketing Management', 'Basic Education',\n",
       "       'Veterinary Nursing', 'Equiniculture', 'Oral Hygiene',\n",
       "       'Management', 'Agronomy', 'Biofuel Production Technologies',\n",
       "       'Informatics Engineering'], dtype=object)"
      ]
     },
     "execution_count": 48,
     "metadata": {},
     "output_type": "execute_result"
    }
   ],
   "source": [
    "students_cat.course.unique()"
   ]
  },
  {
   "cell_type": "markdown",
   "metadata": {},
   "source": [
    "We can see that the evening courses have a `(evening attendace)` tag in their name. I will remove this since there is a column in the data to indicate this condition"
   ]
  },
  {
   "cell_type": "code",
   "execution_count": 49,
   "metadata": {},
   "outputs": [],
   "source": [
    "students_cat[\"course\"] = students_cat[\"course\"].str.replace(\n",
    "    \" (evening attendance)\", \"\", regex=False\n",
    ")"
   ]
  },
  {
   "cell_type": "code",
   "execution_count": 50,
   "metadata": {},
   "outputs": [
    {
     "data": {
      "text/plain": [
       "array(['Animation and Multimedia Design', 'Tourism',\n",
       "       'Communication Design', 'Journalism and Communication',\n",
       "       'Social Service', 'Management', 'Nursing',\n",
       "       'Advertising and Marketing Management', 'Basic Education',\n",
       "       'Veterinary Nursing', 'Equiniculture', 'Oral Hygiene', 'Agronomy',\n",
       "       'Biofuel Production Technologies', 'Informatics Engineering'],\n",
       "      dtype=object)"
      ]
     },
     "execution_count": 50,
     "metadata": {},
     "output_type": "execute_result"
    }
   ],
   "source": [
    "students_cat.course.unique()"
   ]
  },
  {
   "cell_type": "code",
   "execution_count": 51,
   "metadata": {},
   "outputs": [],
   "source": [
    "# Save the processed file to parquet, this keeps the format in the columns (ie: keeps the order created for some categorical columns)\n",
    "students_cat.to_parquet(\"../data/students_processed_cats.parquet\", index=False)"
   ]
  },
  {
   "cell_type": "code",
   "execution_count": 53,
   "metadata": {},
   "outputs": [],
   "source": [
    "# Split the data into train and test sets for machine learning models analysis\n",
    "\n",
    "from sklearn.model_selection import train_test_split\n",
    "\n",
    "train, test = train_test_split(\n",
    "    students_cat,\n",
    "    test_size=0.2,\n",
    "    random_state=42,\n",
    "    shuffle=True,\n",
    "    stratify=students_cat[\"dropout\"],\n",
    ")\n",
    "train.to_parquet(\"../data/splits/train.parquet\", index=False)\n",
    "test.to_parquet(\"../data/splits/test.parquet\", index=False)"
   ]
  }
 ],
 "metadata": {
  "kernelspec": {
   "display_name": "ml39",
   "language": "python",
   "name": "python3"
  },
  "language_info": {
   "codemirror_mode": {
    "name": "ipython",
    "version": 3
   },
   "file_extension": ".py",
   "mimetype": "text/x-python",
   "name": "python",
   "nbconvert_exporter": "python",
   "pygments_lexer": "ipython3",
   "version": "3.9.17"
  },
  "orig_nbformat": 4,
  "vscode": {
   "interpreter": {
    "hash": "756fb8987e7490d4ac0cb9b423fd098ee2136a1dfd28da438447905012e052ac"
   }
  }
 },
 "nbformat": 4,
 "nbformat_minor": 2
}
